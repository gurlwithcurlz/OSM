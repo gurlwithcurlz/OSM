{
 "cells": [
  {
   "cell_type": "code",
   "execution_count": 1,
   "metadata": {
    "execution": {
     "iopub.execute_input": "2020-07-04T14:47:33.793197Z",
     "iopub.status.busy": "2020-07-04T14:47:33.793027Z",
     "iopub.status.idle": "2020-07-04T14:47:35.402863Z",
     "shell.execute_reply": "2020-07-04T14:47:35.402337Z",
     "shell.execute_reply.started": "2020-07-04T14:47:33.793177Z"
    }
   },
   "outputs": [],
   "source": [
    "import os\n",
    "\n",
    "import pandas as pd\n",
    "import geopandas as gpd\n",
    "from shapely.geometry import MultiPoint\n",
    "from shapely import wkt\n",
    "# from sqlalchemy import text\n",
    "\n",
    "import mripython as mri"
   ]
  },
  {
   "cell_type": "markdown",
   "metadata": {},
   "source": [
    "### Params"
   ]
  },
  {
   "cell_type": "code",
   "execution_count": 2,
   "metadata": {
    "execution": {
     "iopub.execute_input": "2020-07-04T14:47:35.404057Z",
     "iopub.status.busy": "2020-07-04T14:47:35.403882Z",
     "iopub.status.idle": "2020-07-04T14:47:35.406523Z",
     "shell.execute_reply": "2020-07-04T14:47:35.406126Z",
     "shell.execute_reply.started": "2020-07-04T14:47:35.404037Z"
    }
   },
   "outputs": [],
   "source": [
    "FP_NODES='s3://gi-rawdata/osm/uk/nodes/nodes_20200520.parquet'\n",
    "FP_WAYS='s3://gi-rawdata/osm/uk/ways/ways_20200519.csv'\n",
    "FP_POSTCODE_BUFFER='s3://gidev/projects/open-street-map/uk/postcodes/geodata/uk_postcodes_wkt_buffer_250m_20200602.csv'\n",
    "\n",
    "FP_LOCAL='/home/selina/local_meg/nick/nudism_tags.csv'"
   ]
  },
  {
   "cell_type": "markdown",
   "metadata": {},
   "source": [
    "### Load and subset OSM data"
   ]
  },
  {
   "cell_type": "markdown",
   "metadata": {},
   "source": [
    "#### Ways"
   ]
  },
  {
   "cell_type": "code",
   "execution_count": 3,
   "metadata": {
    "execution": {
     "iopub.execute_input": "2020-07-04T14:47:37.226902Z",
     "iopub.status.busy": "2020-07-04T14:47:37.226693Z",
     "iopub.status.idle": "2020-07-04T14:49:58.583500Z",
     "shell.execute_reply": "2020-07-04T14:49:58.582971Z",
     "shell.execute_reply.started": "2020-07-04T14:47:37.226879Z"
    }
   },
   "outputs": [
    {
     "name": "stdout",
     "output_type": "stream",
     "text": [
      "CPU times: user 1min 13s, sys: 14.9 s, total: 1min 28s\n",
      "Wall time: 2min 21s\n"
     ]
    }
   ],
   "source": [
    "%%time\n",
    "ways=pd.read_csv(FP_WAYS)"
   ]
  },
  {
   "cell_type": "code",
   "execution_count": 4,
   "metadata": {
    "execution": {
     "iopub.execute_input": "2020-07-04T14:49:58.584569Z",
     "iopub.status.busy": "2020-07-04T14:49:58.584392Z",
     "iopub.status.idle": "2020-07-04T14:49:58.606313Z",
     "shell.execute_reply": "2020-07-04T14:49:58.605933Z",
     "shell.execute_reply.started": "2020-07-04T14:49:58.584548Z"
    }
   },
   "outputs": [
    {
     "data": {
      "text/html": [
       "<div>\n",
       "<style scoped>\n",
       "    .dataframe tbody tr th:only-of-type {\n",
       "        vertical-align: middle;\n",
       "    }\n",
       "\n",
       "    .dataframe tbody tr th {\n",
       "        vertical-align: top;\n",
       "    }\n",
       "\n",
       "    .dataframe thead th {\n",
       "        text-align: right;\n",
       "    }\n",
       "</style>\n",
       "<table border=\"1\" class=\"dataframe\">\n",
       "  <thead>\n",
       "    <tr style=\"text-align: right;\">\n",
       "      <th></th>\n",
       "      <th>id</th>\n",
       "      <th>tags</th>\n",
       "      <th>lat</th>\n",
       "      <th>lon</th>\n",
       "    </tr>\n",
       "  </thead>\n",
       "  <tbody>\n",
       "    <tr>\n",
       "      <th>0</th>\n",
       "      <td>85478037</td>\n",
       "      <td>{'name': 'Ridgeway', 'source': 'OS_OpenData_St...</td>\n",
       "      <td>[50.2906706, 50.2903002, 50.2910075, 50.291058...</td>\n",
       "      <td>[-4.9505771, -4.9502946, -4.9510263, -4.951095...</td>\n",
       "    </tr>\n",
       "    <tr>\n",
       "      <th>1</th>\n",
       "      <td>123355265</td>\n",
       "      <td>{'highway': 'service'}</td>\n",
       "      <td>[52.6923470, 52.6926188, 52.6925987, 52.692393...</td>\n",
       "      <td>[-1.7144764, -1.7116259, -1.7113977, -1.714894...</td>\n",
       "    </tr>\n",
       "    <tr>\n",
       "      <th>2</th>\n",
       "      <td>34870294</td>\n",
       "      <td>{'name': 'Dylan Road', 'highway': 'residential'}</td>\n",
       "      <td>[51.4918822, 51.4916098]</td>\n",
       "      <td>[0.1493202, 0.1492267]</td>\n",
       "    </tr>\n",
       "    <tr>\n",
       "      <th>3</th>\n",
       "      <td>123372305</td>\n",
       "      <td>{'landuse': 'allotments'}</td>\n",
       "      <td>[50.8336562, 50.8344716, 50.8343504, 50.834497...</td>\n",
       "      <td>[-0.1050033, -0.1025730, -0.1022406, -0.102829...</td>\n",
       "    </tr>\n",
       "    <tr>\n",
       "      <th>4</th>\n",
       "      <td>123372456</td>\n",
       "      <td>{'name': 'Outwoods', 'landuse': 'forest'}</td>\n",
       "      <td>[52.5704082, 52.5716495, 52.5704890, 52.566637...</td>\n",
       "      <td>[-1.5548786, -1.5571366, -1.5543511, -1.560078...</td>\n",
       "    </tr>\n",
       "  </tbody>\n",
       "</table>\n",
       "</div>"
      ],
      "text/plain": [
       "          id                                               tags  \\\n",
       "0   85478037  {'name': 'Ridgeway', 'source': 'OS_OpenData_St...   \n",
       "1  123355265                             {'highway': 'service'}   \n",
       "2   34870294   {'name': 'Dylan Road', 'highway': 'residential'}   \n",
       "3  123372305                          {'landuse': 'allotments'}   \n",
       "4  123372456          {'name': 'Outwoods', 'landuse': 'forest'}   \n",
       "\n",
       "                                                 lat  \\\n",
       "0  [50.2906706, 50.2903002, 50.2910075, 50.291058...   \n",
       "1  [52.6923470, 52.6926188, 52.6925987, 52.692393...   \n",
       "2                           [51.4918822, 51.4916098]   \n",
       "3  [50.8336562, 50.8344716, 50.8343504, 50.834497...   \n",
       "4  [52.5704082, 52.5716495, 52.5704890, 52.566637...   \n",
       "\n",
       "                                                 lon  \n",
       "0  [-4.9505771, -4.9502946, -4.9510263, -4.951095...  \n",
       "1  [-1.7144764, -1.7116259, -1.7113977, -1.714894...  \n",
       "2                             [0.1493202, 0.1492267]  \n",
       "3  [-0.1050033, -0.1025730, -0.1022406, -0.102829...  \n",
       "4  [-1.5548786, -1.5571366, -1.5543511, -1.560078...  "
      ]
     },
     "execution_count": 4,
     "metadata": {},
     "output_type": "execute_result"
    }
   ],
   "source": [
    "ways.head()"
   ]
  },
  {
   "cell_type": "code",
   "execution_count": 5,
   "metadata": {
    "execution": {
     "iopub.execute_input": "2020-07-04T14:49:58.607361Z",
     "iopub.status.busy": "2020-07-04T14:49:58.607209Z",
     "iopub.status.idle": "2020-07-04T14:52:52.467980Z",
     "shell.execute_reply": "2020-07-04T14:52:52.467479Z",
     "shell.execute_reply.started": "2020-07-04T14:49:58.607343Z"
    }
   },
   "outputs": [],
   "source": [
    "ways['nudism_tag']=ways['tags'].apply(lambda x:eval(x).get('nudism'))"
   ]
  },
  {
   "cell_type": "code",
   "execution_count": 6,
   "metadata": {
    "execution": {
     "iopub.execute_input": "2020-07-04T14:52:52.469101Z",
     "iopub.status.busy": "2020-07-04T14:52:52.468924Z",
     "iopub.status.idle": "2020-07-04T14:52:52.477110Z",
     "shell.execute_reply": "2020-07-04T14:52:52.476735Z",
     "shell.execute_reply.started": "2020-07-04T14:52:52.469081Z"
    }
   },
   "outputs": [
    {
     "data": {
      "text/html": [
       "<div>\n",
       "<style scoped>\n",
       "    .dataframe tbody tr th:only-of-type {\n",
       "        vertical-align: middle;\n",
       "    }\n",
       "\n",
       "    .dataframe tbody tr th {\n",
       "        vertical-align: top;\n",
       "    }\n",
       "\n",
       "    .dataframe thead th {\n",
       "        text-align: right;\n",
       "    }\n",
       "</style>\n",
       "<table border=\"1\" class=\"dataframe\">\n",
       "  <thead>\n",
       "    <tr style=\"text-align: right;\">\n",
       "      <th></th>\n",
       "      <th>id</th>\n",
       "      <th>tags</th>\n",
       "      <th>lat</th>\n",
       "      <th>lon</th>\n",
       "      <th>nudism_tag</th>\n",
       "    </tr>\n",
       "  </thead>\n",
       "  <tbody>\n",
       "    <tr>\n",
       "      <th>0</th>\n",
       "      <td>85478037</td>\n",
       "      <td>{'name': 'Ridgeway', 'source': 'OS_OpenData_St...</td>\n",
       "      <td>[50.2906706, 50.2903002, 50.2910075, 50.291058...</td>\n",
       "      <td>[-4.9505771, -4.9502946, -4.9510263, -4.951095...</td>\n",
       "      <td>None</td>\n",
       "    </tr>\n",
       "    <tr>\n",
       "      <th>1</th>\n",
       "      <td>123355265</td>\n",
       "      <td>{'highway': 'service'}</td>\n",
       "      <td>[52.6923470, 52.6926188, 52.6925987, 52.692393...</td>\n",
       "      <td>[-1.7144764, -1.7116259, -1.7113977, -1.714894...</td>\n",
       "      <td>None</td>\n",
       "    </tr>\n",
       "    <tr>\n",
       "      <th>2</th>\n",
       "      <td>34870294</td>\n",
       "      <td>{'name': 'Dylan Road', 'highway': 'residential'}</td>\n",
       "      <td>[51.4918822, 51.4916098]</td>\n",
       "      <td>[0.1493202, 0.1492267]</td>\n",
       "      <td>None</td>\n",
       "    </tr>\n",
       "    <tr>\n",
       "      <th>3</th>\n",
       "      <td>123372305</td>\n",
       "      <td>{'landuse': 'allotments'}</td>\n",
       "      <td>[50.8336562, 50.8344716, 50.8343504, 50.834497...</td>\n",
       "      <td>[-0.1050033, -0.1025730, -0.1022406, -0.102829...</td>\n",
       "      <td>None</td>\n",
       "    </tr>\n",
       "    <tr>\n",
       "      <th>4</th>\n",
       "      <td>123372456</td>\n",
       "      <td>{'name': 'Outwoods', 'landuse': 'forest'}</td>\n",
       "      <td>[52.5704082, 52.5716495, 52.5704890, 52.566637...</td>\n",
       "      <td>[-1.5548786, -1.5571366, -1.5543511, -1.560078...</td>\n",
       "      <td>None</td>\n",
       "    </tr>\n",
       "  </tbody>\n",
       "</table>\n",
       "</div>"
      ],
      "text/plain": [
       "          id                                               tags  \\\n",
       "0   85478037  {'name': 'Ridgeway', 'source': 'OS_OpenData_St...   \n",
       "1  123355265                             {'highway': 'service'}   \n",
       "2   34870294   {'name': 'Dylan Road', 'highway': 'residential'}   \n",
       "3  123372305                          {'landuse': 'allotments'}   \n",
       "4  123372456          {'name': 'Outwoods', 'landuse': 'forest'}   \n",
       "\n",
       "                                                 lat  \\\n",
       "0  [50.2906706, 50.2903002, 50.2910075, 50.291058...   \n",
       "1  [52.6923470, 52.6926188, 52.6925987, 52.692393...   \n",
       "2                           [51.4918822, 51.4916098]   \n",
       "3  [50.8336562, 50.8344716, 50.8343504, 50.834497...   \n",
       "4  [52.5704082, 52.5716495, 52.5704890, 52.566637...   \n",
       "\n",
       "                                                 lon nudism_tag  \n",
       "0  [-4.9505771, -4.9502946, -4.9510263, -4.951095...       None  \n",
       "1  [-1.7144764, -1.7116259, -1.7113977, -1.714894...       None  \n",
       "2                             [0.1493202, 0.1492267]       None  \n",
       "3  [-0.1050033, -0.1025730, -0.1022406, -0.102829...       None  \n",
       "4  [-1.5548786, -1.5571366, -1.5543511, -1.560078...       None  "
      ]
     },
     "execution_count": 6,
     "metadata": {},
     "output_type": "execute_result"
    }
   ],
   "source": [
    "ways.head()"
   ]
  },
  {
   "cell_type": "code",
   "execution_count": 7,
   "metadata": {
    "execution": {
     "iopub.execute_input": "2020-07-04T14:52:52.477876Z",
     "iopub.status.busy": "2020-07-04T14:52:52.477731Z",
     "iopub.status.idle": "2020-07-04T14:52:53.148993Z",
     "shell.execute_reply": "2020-07-04T14:52:53.148582Z",
     "shell.execute_reply.started": "2020-07-04T14:52:52.477859Z"
    }
   },
   "outputs": [
    {
     "data": {
      "text/plain": [
       "9.251059273495813e-07"
      ]
     },
     "execution_count": 7,
     "metadata": {},
     "output_type": "execute_result"
    }
   ],
   "source": [
    "ways.nudism_tag.notnull().mean()"
   ]
  },
  {
   "cell_type": "code",
   "execution_count": 8,
   "metadata": {
    "execution": {
     "iopub.execute_input": "2020-07-04T14:52:53.149892Z",
     "iopub.status.busy": "2020-07-04T14:52:53.149723Z",
     "iopub.status.idle": "2020-07-04T14:52:53.822283Z",
     "shell.execute_reply": "2020-07-04T14:52:53.821862Z",
     "shell.execute_reply.started": "2020-07-04T14:52:53.149872Z"
    }
   },
   "outputs": [
    {
     "data": {
      "text/plain": [
       "17"
      ]
     },
     "execution_count": 8,
     "metadata": {},
     "output_type": "execute_result"
    }
   ],
   "source": [
    "ways.nudism_tag.notnull().sum()"
   ]
  },
  {
   "cell_type": "code",
   "execution_count": 9,
   "metadata": {
    "execution": {
     "iopub.execute_input": "2020-07-04T14:52:53.823176Z",
     "iopub.status.busy": "2020-07-04T14:52:53.823009Z",
     "iopub.status.idle": "2020-07-04T14:52:57.252680Z",
     "shell.execute_reply": "2020-07-04T14:52:57.252178Z",
     "shell.execute_reply.started": "2020-07-04T14:52:53.823156Z"
    }
   },
   "outputs": [],
   "source": [
    "ways=ways[ways.nudism_tag.notnull()]"
   ]
  },
  {
   "cell_type": "code",
   "execution_count": 10,
   "metadata": {
    "execution": {
     "iopub.execute_input": "2020-07-04T14:52:57.254048Z",
     "iopub.status.busy": "2020-07-04T14:52:57.253863Z",
     "iopub.status.idle": "2020-07-04T14:52:57.263441Z",
     "shell.execute_reply": "2020-07-04T14:52:57.263038Z",
     "shell.execute_reply.started": "2020-07-04T14:52:57.254027Z"
    }
   },
   "outputs": [
    {
     "data": {
      "text/html": [
       "<div>\n",
       "<style scoped>\n",
       "    .dataframe tbody tr th:only-of-type {\n",
       "        vertical-align: middle;\n",
       "    }\n",
       "\n",
       "    .dataframe tbody tr th {\n",
       "        vertical-align: top;\n",
       "    }\n",
       "\n",
       "    .dataframe thead th {\n",
       "        text-align: right;\n",
       "    }\n",
       "</style>\n",
       "<table border=\"1\" class=\"dataframe\">\n",
       "  <thead>\n",
       "    <tr style=\"text-align: right;\">\n",
       "      <th></th>\n",
       "      <th>id</th>\n",
       "      <th>tags</th>\n",
       "      <th>lat</th>\n",
       "      <th>lon</th>\n",
       "      <th>nudism_tag</th>\n",
       "    </tr>\n",
       "  </thead>\n",
       "  <tbody>\n",
       "    <tr>\n",
       "      <th>430130</th>\n",
       "      <td>338490982</td>\n",
       "      <td>{'nudism': 'customary', 'natural': 'beach', 's...</td>\n",
       "      <td>[55.4384074, 55.4380560, 55.4389051, 55.438807...</td>\n",
       "      <td>[-5.2469849, -5.2377426, -5.2437776, -5.245606...</td>\n",
       "      <td>customary</td>\n",
       "    </tr>\n",
       "    <tr>\n",
       "      <th>4166666</th>\n",
       "      <td>230388260</td>\n",
       "      <td>{'nudism': 'yes', 'natural': 'beach', 'surface...</td>\n",
       "      <td>[50.6629957, 50.6606995, 50.6646572, 50.661110...</td>\n",
       "      <td>[-1.9487428, -1.9502858, -1.9475646, -1.950018...</td>\n",
       "      <td>yes</td>\n",
       "    </tr>\n",
       "    <tr>\n",
       "      <th>5296449</th>\n",
       "      <td>457666787</td>\n",
       "      <td>{'nudism': 'designated', 'natural': 'beach', '...</td>\n",
       "      <td>[55.4394703, 55.4391214, 55.4391547, 55.439392...</td>\n",
       "      <td>[-5.2514198, -5.2504825, -5.2482859, -5.249379...</td>\n",
       "      <td>designated</td>\n",
       "    </tr>\n",
       "    <tr>\n",
       "      <th>5504328</th>\n",
       "      <td>96624951</td>\n",
       "      <td>{'nudism': 'no', 'source:name': 'local_knowled...</td>\n",
       "      <td>[50.8170231, 50.8161311, 50.8187325, 50.819078...</td>\n",
       "      <td>[-0.1237390, -0.1201978, -0.1320089, -0.133979...</td>\n",
       "      <td>no</td>\n",
       "    </tr>\n",
       "    <tr>\n",
       "      <th>5631240</th>\n",
       "      <td>457668845</td>\n",
       "      <td>{'nudism': 'designated', 'natural': 'beach', '...</td>\n",
       "      <td>[55.6179708, 55.6133075, 55.6144670, 55.608728...</td>\n",
       "      <td>[-4.7227414, -4.7117769, -4.7149181, -4.702394...</td>\n",
       "      <td>designated</td>\n",
       "    </tr>\n",
       "    <tr>\n",
       "      <th>6339863</th>\n",
       "      <td>168472202</td>\n",
       "      <td>{'nudism': 'yes', 'natural': 'beach', 'surface...</td>\n",
       "      <td>[50.7868400, 50.7870341, 50.7870883, 50.786557...</td>\n",
       "      <td>[-1.0309351, -1.0308962, -1.0304885, -1.032078...</td>\n",
       "      <td>yes</td>\n",
       "    </tr>\n",
       "    <tr>\n",
       "      <th>6348725</th>\n",
       "      <td>367488137</td>\n",
       "      <td>{'nudism': 'designated', 'natural': 'beach', '...</td>\n",
       "      <td>[55.6180147, 55.6203397, 55.6232237, 55.618868...</td>\n",
       "      <td>[-4.7234138, -4.7302037, -4.7375026, -4.725387...</td>\n",
       "      <td>designated</td>\n",
       "    </tr>\n",
       "    <tr>\n",
       "      <th>7634632</th>\n",
       "      <td>172581555</td>\n",
       "      <td>{'nudism': 'yes', 'phone': '+44 1362858871', '...</td>\n",
       "      <td>[52.6759496, 52.6759691, 52.6759691, 52.677537...</td>\n",
       "      <td>[1.0071964, 1.0081888, 1.0081888, 1.0073828, 1...</td>\n",
       "      <td>yes</td>\n",
       "    </tr>\n",
       "    <tr>\n",
       "      <th>8398454</th>\n",
       "      <td>168472207</td>\n",
       "      <td>{'nudism': 'yes', 'natural': 'beach', 'name': ...</td>\n",
       "      <td>[51.3758713, 51.3767414, 51.3785798, 51.379209...</td>\n",
       "      <td>[0.9489995, 0.9476394, 0.9455351, 0.9450513, 0...</td>\n",
       "      <td>yes</td>\n",
       "    </tr>\n",
       "    <tr>\n",
       "      <th>8694998</th>\n",
       "      <td>168472197</td>\n",
       "      <td>{'nudism': 'no', 'natural': 'beach', 'source':...</td>\n",
       "      <td>[50.8134502, 50.8128533, 50.8133697, 50.813928...</td>\n",
       "      <td>[-0.1094882, -0.1075543, -0.1085115, -0.109789...</td>\n",
       "      <td>no</td>\n",
       "    </tr>\n",
       "    <tr>\n",
       "      <th>10284036</th>\n",
       "      <td>168472209</td>\n",
       "      <td>{'nudism': 'yes', 'natural': 'beach', 'name': ...</td>\n",
       "      <td>[51.7701689, 51.7702414, 51.7714794, 51.771184...</td>\n",
       "      <td>[1.0624927, 1.0674163, 1.0736186, 1.0729685, 1...</td>\n",
       "      <td>yes</td>\n",
       "    </tr>\n",
       "    <tr>\n",
       "      <th>11620085</th>\n",
       "      <td>487400097</td>\n",
       "      <td>{'note': 'Was formerly mapped as a wood with a...</td>\n",
       "      <td>[51.7174211, 51.7170612, 51.7165404, 51.717613...</td>\n",
       "      <td>[-0.3588151, -0.3551418, -0.3573348, -0.357190...</td>\n",
       "      <td>obligatory</td>\n",
       "    </tr>\n",
       "    <tr>\n",
       "      <th>11679808</th>\n",
       "      <td>672695326</td>\n",
       "      <td>{'website': 'https://www.naturistfoundation.or...</td>\n",
       "      <td>[51.3952993, 51.3938622, 51.3972243, 51.394223...</td>\n",
       "      <td>[0.1428504, 0.1430449, 0.1382692, 0.1431200, 0...</td>\n",
       "      <td>yes</td>\n",
       "    </tr>\n",
       "    <tr>\n",
       "      <th>12599012</th>\n",
       "      <td>168852170</td>\n",
       "      <td>{'nudism': 'yes', 'natural': 'beach', 'name': ...</td>\n",
       "      <td>[50.8143418, 50.8143418, 50.8149338, 50.815281...</td>\n",
       "      <td>[-0.1132645, -0.1132645, -0.1158513, -0.115545...</td>\n",
       "      <td>yes</td>\n",
       "    </tr>\n",
       "    <tr>\n",
       "      <th>14736157</th>\n",
       "      <td>166854264</td>\n",
       "      <td>{'nudism': 'permissive', 'natural': 'beach', '...</td>\n",
       "      <td>[50.4886730, 50.4879567, 50.4886730, 50.487741...</td>\n",
       "      <td>[-3.5144732, -3.5142425, -3.5144732, -3.514711...</td>\n",
       "      <td>permissive</td>\n",
       "    </tr>\n",
       "    <tr>\n",
       "      <th>15756509</th>\n",
       "      <td>339854322</td>\n",
       "      <td>{'nudism': 'designated', 'website': 'http://ww...</td>\n",
       "      <td>[54.1944835, 54.1978986, 54.1976376, 54.197251...</td>\n",
       "      <td>[-3.3264952, -3.3261447, -3.3298598, -3.325256...</td>\n",
       "      <td>designated</td>\n",
       "    </tr>\n",
       "    <tr>\n",
       "      <th>16253134</th>\n",
       "      <td>183399645</td>\n",
       "      <td>{'nudism': 'yes', 'website': 'http://www.herit...</td>\n",
       "      <td>[51.3696029, 51.3683716, 51.3685059, 51.367909...</td>\n",
       "      <td>[-0.8297808, -0.8317231, -0.8318042, -0.831352...</td>\n",
       "      <td>yes</td>\n",
       "    </tr>\n",
       "  </tbody>\n",
       "</table>\n",
       "</div>"
      ],
      "text/plain": [
       "                 id                                               tags  \\\n",
       "430130    338490982  {'nudism': 'customary', 'natural': 'beach', 's...   \n",
       "4166666   230388260  {'nudism': 'yes', 'natural': 'beach', 'surface...   \n",
       "5296449   457666787  {'nudism': 'designated', 'natural': 'beach', '...   \n",
       "5504328    96624951  {'nudism': 'no', 'source:name': 'local_knowled...   \n",
       "5631240   457668845  {'nudism': 'designated', 'natural': 'beach', '...   \n",
       "6339863   168472202  {'nudism': 'yes', 'natural': 'beach', 'surface...   \n",
       "6348725   367488137  {'nudism': 'designated', 'natural': 'beach', '...   \n",
       "7634632   172581555  {'nudism': 'yes', 'phone': '+44 1362858871', '...   \n",
       "8398454   168472207  {'nudism': 'yes', 'natural': 'beach', 'name': ...   \n",
       "8694998   168472197  {'nudism': 'no', 'natural': 'beach', 'source':...   \n",
       "10284036  168472209  {'nudism': 'yes', 'natural': 'beach', 'name': ...   \n",
       "11620085  487400097  {'note': 'Was formerly mapped as a wood with a...   \n",
       "11679808  672695326  {'website': 'https://www.naturistfoundation.or...   \n",
       "12599012  168852170  {'nudism': 'yes', 'natural': 'beach', 'name': ...   \n",
       "14736157  166854264  {'nudism': 'permissive', 'natural': 'beach', '...   \n",
       "15756509  339854322  {'nudism': 'designated', 'website': 'http://ww...   \n",
       "16253134  183399645  {'nudism': 'yes', 'website': 'http://www.herit...   \n",
       "\n",
       "                                                        lat  \\\n",
       "430130    [55.4384074, 55.4380560, 55.4389051, 55.438807...   \n",
       "4166666   [50.6629957, 50.6606995, 50.6646572, 50.661110...   \n",
       "5296449   [55.4394703, 55.4391214, 55.4391547, 55.439392...   \n",
       "5504328   [50.8170231, 50.8161311, 50.8187325, 50.819078...   \n",
       "5631240   [55.6179708, 55.6133075, 55.6144670, 55.608728...   \n",
       "6339863   [50.7868400, 50.7870341, 50.7870883, 50.786557...   \n",
       "6348725   [55.6180147, 55.6203397, 55.6232237, 55.618868...   \n",
       "7634632   [52.6759496, 52.6759691, 52.6759691, 52.677537...   \n",
       "8398454   [51.3758713, 51.3767414, 51.3785798, 51.379209...   \n",
       "8694998   [50.8134502, 50.8128533, 50.8133697, 50.813928...   \n",
       "10284036  [51.7701689, 51.7702414, 51.7714794, 51.771184...   \n",
       "11620085  [51.7174211, 51.7170612, 51.7165404, 51.717613...   \n",
       "11679808  [51.3952993, 51.3938622, 51.3972243, 51.394223...   \n",
       "12599012  [50.8143418, 50.8143418, 50.8149338, 50.815281...   \n",
       "14736157  [50.4886730, 50.4879567, 50.4886730, 50.487741...   \n",
       "15756509  [54.1944835, 54.1978986, 54.1976376, 54.197251...   \n",
       "16253134  [51.3696029, 51.3683716, 51.3685059, 51.367909...   \n",
       "\n",
       "                                                        lon  nudism_tag  \n",
       "430130    [-5.2469849, -5.2377426, -5.2437776, -5.245606...   customary  \n",
       "4166666   [-1.9487428, -1.9502858, -1.9475646, -1.950018...         yes  \n",
       "5296449   [-5.2514198, -5.2504825, -5.2482859, -5.249379...  designated  \n",
       "5504328   [-0.1237390, -0.1201978, -0.1320089, -0.133979...          no  \n",
       "5631240   [-4.7227414, -4.7117769, -4.7149181, -4.702394...  designated  \n",
       "6339863   [-1.0309351, -1.0308962, -1.0304885, -1.032078...         yes  \n",
       "6348725   [-4.7234138, -4.7302037, -4.7375026, -4.725387...  designated  \n",
       "7634632   [1.0071964, 1.0081888, 1.0081888, 1.0073828, 1...         yes  \n",
       "8398454   [0.9489995, 0.9476394, 0.9455351, 0.9450513, 0...         yes  \n",
       "8694998   [-0.1094882, -0.1075543, -0.1085115, -0.109789...          no  \n",
       "10284036  [1.0624927, 1.0674163, 1.0736186, 1.0729685, 1...         yes  \n",
       "11620085  [-0.3588151, -0.3551418, -0.3573348, -0.357190...  obligatory  \n",
       "11679808  [0.1428504, 0.1430449, 0.1382692, 0.1431200, 0...         yes  \n",
       "12599012  [-0.1132645, -0.1132645, -0.1158513, -0.115545...         yes  \n",
       "14736157  [-3.5144732, -3.5142425, -3.5144732, -3.514711...  permissive  \n",
       "15756509  [-3.3264952, -3.3261447, -3.3298598, -3.325256...  designated  \n",
       "16253134  [-0.8297808, -0.8317231, -0.8318042, -0.831352...         yes  "
      ]
     },
     "execution_count": 10,
     "metadata": {},
     "output_type": "execute_result"
    }
   ],
   "source": [
    "ways"
   ]
  },
  {
   "cell_type": "code",
   "execution_count": 32,
   "metadata": {
    "execution": {
     "iopub.execute_input": "2020-07-04T15:01:43.704947Z",
     "iopub.status.busy": "2020-07-04T15:01:43.704726Z",
     "iopub.status.idle": "2020-07-04T15:01:43.709336Z",
     "shell.execute_reply": "2020-07-04T15:01:43.708947Z",
     "shell.execute_reply.started": "2020-07-04T15:01:43.704924Z"
    }
   },
   "outputs": [
    {
     "data": {
      "text/plain": [
       "430130      {'nudism': 'customary', 'natural': 'beach', 's...\n",
       "4166666     {'nudism': 'yes', 'natural': 'beach', 'surface...\n",
       "5296449     {'nudism': 'designated', 'natural': 'beach', '...\n",
       "5504328     {'nudism': 'no', 'source:name': 'local_knowled...\n",
       "5631240     {'nudism': 'designated', 'natural': 'beach', '...\n",
       "6339863     {'nudism': 'yes', 'natural': 'beach', 'surface...\n",
       "6348725     {'nudism': 'designated', 'natural': 'beach', '...\n",
       "7634632     {'nudism': 'yes', 'phone': '+44 1362858871', '...\n",
       "8398454     {'nudism': 'yes', 'natural': 'beach', 'name': ...\n",
       "8694998     {'nudism': 'no', 'natural': 'beach', 'source':...\n",
       "10284036    {'nudism': 'yes', 'natural': 'beach', 'name': ...\n",
       "11620085    {'note': 'Was formerly mapped as a wood with a...\n",
       "11679808    {'website': 'https://www.naturistfoundation.or...\n",
       "12599012    {'nudism': 'yes', 'natural': 'beach', 'name': ...\n",
       "14736157    {'nudism': 'permissive', 'natural': 'beach', '...\n",
       "15756509    {'nudism': 'designated', 'website': 'http://ww...\n",
       "16253134    {'nudism': 'yes', 'website': 'http://www.herit...\n",
       "430130                                                    NaN\n",
       "4166666                                                   NaN\n",
       "5296449                                                   NaN\n",
       "5504328                                                   NaN\n",
       "5631240                                                   NaN\n",
       "6339863                                                   NaN\n",
       "6348725                                                   NaN\n",
       "7634632                                                   NaN\n",
       "8398454                                                   NaN\n",
       "8694998                                                   NaN\n",
       "10284036                                                  NaN\n",
       "11620085                                                  NaN\n",
       "11679808                                                  NaN\n",
       "12599012                                                  NaN\n",
       "14736157                                                  NaN\n",
       "15756509                                                  NaN\n",
       "16253134                                                  NaN\n",
       "Name: tags, dtype: object"
      ]
     },
     "execution_count": 32,
     "metadata": {},
     "output_type": "execute_result"
    }
   ],
   "source": [
    "ways['tags']"
   ]
  },
  {
   "cell_type": "code",
   "execution_count": 34,
   "metadata": {
    "execution": {
     "iopub.execute_input": "2020-07-04T15:02:28.645779Z",
     "iopub.status.busy": "2020-07-04T15:02:28.645559Z",
     "iopub.status.idle": "2020-07-04T15:02:28.650370Z",
     "shell.execute_reply": "2020-07-04T15:02:28.649927Z",
     "shell.execute_reply.started": "2020-07-04T15:02:28.645756Z"
    }
   },
   "outputs": [],
   "source": [
    "ways=ways.loc[ways.tags.notnull(),['id','tags','lat','lon','nudism_tag']]"
   ]
  },
  {
   "cell_type": "code",
   "execution_count": 35,
   "metadata": {
    "execution": {
     "iopub.execute_input": "2020-07-04T15:02:33.101695Z",
     "iopub.status.busy": "2020-07-04T15:02:33.101480Z",
     "iopub.status.idle": "2020-07-04T15:02:33.104945Z",
     "shell.execute_reply": "2020-07-04T15:02:33.104527Z",
     "shell.execute_reply.started": "2020-07-04T15:02:33.101672Z"
    }
   },
   "outputs": [
    {
     "data": {
      "text/plain": [
       "(17, 5)"
      ]
     },
     "execution_count": 35,
     "metadata": {},
     "output_type": "execute_result"
    }
   ],
   "source": [
    "ways.shape"
   ]
  },
  {
   "cell_type": "code",
   "execution_count": 36,
   "metadata": {
    "execution": {
     "iopub.execute_input": "2020-07-04T15:03:29.987511Z",
     "iopub.status.busy": "2020-07-04T15:03:29.987301Z",
     "iopub.status.idle": "2020-07-04T15:03:29.998177Z",
     "shell.execute_reply": "2020-07-04T15:03:29.997747Z",
     "shell.execute_reply.started": "2020-07-04T15:03:29.987489Z"
    }
   },
   "outputs": [],
   "source": [
    "ways = pd.concat([ways, ways.tags.apply(lambda x:eval(x)).apply(pd.Series)], axis=1, sort=False)"
   ]
  },
  {
   "cell_type": "code",
   "execution_count": 37,
   "metadata": {
    "execution": {
     "iopub.execute_input": "2020-07-04T15:03:37.791698Z",
     "iopub.status.busy": "2020-07-04T15:03:37.791478Z",
     "iopub.status.idle": "2020-07-04T15:03:37.797253Z",
     "shell.execute_reply": "2020-07-04T15:03:37.796865Z",
     "shell.execute_reply.started": "2020-07-04T15:03:37.791675Z"
    }
   },
   "outputs": [
    {
     "data": {
      "text/plain": [
       "id                 1.000000\n",
       "tags               1.000000\n",
       "lat                1.000000\n",
       "lon                1.000000\n",
       "nudism_tag         1.000000\n",
       "nudism             1.000000\n",
       "natural            0.705882\n",
       "surface            0.352941\n",
       "name               0.882353\n",
       "tourism            0.294118\n",
       "source:name        0.058824\n",
       "beach              0.058824\n",
       "source             0.235294\n",
       "url                0.235294\n",
       "description        0.176471\n",
       "phone              0.058824\n",
       "note               0.058824\n",
       "website            0.235294\n",
       "access             0.117647\n",
       "club               0.058824\n",
       "landuse            0.058824\n",
       "leisure            0.058824\n",
       "wikidata           0.058824\n",
       "operator           0.117647\n",
       "long_name          0.058824\n",
       "addr:country       0.058824\n",
       "motorhome          0.058824\n",
       "addr:postcode      0.058824\n",
       "dryer              0.058824\n",
       "tents              0.117647\n",
       "addr:city          0.058824\n",
       "power_supply       0.058824\n",
       "sauna              0.058824\n",
       "caravans           0.058824\n",
       "addr:street        0.058824\n",
       "washing_machine    0.058824\n",
       "source:nudist      0.058824\n",
       "nudist             0.058824\n",
       "barrier            0.058824\n",
       "dtype: float64"
      ]
     },
     "execution_count": 37,
     "metadata": {},
     "output_type": "execute_result"
    }
   ],
   "source": [
    "ways.notnull().mean()"
   ]
  },
  {
   "cell_type": "code",
   "execution_count": 38,
   "metadata": {
    "execution": {
     "iopub.execute_input": "2020-07-04T15:03:46.392105Z",
     "iopub.status.busy": "2020-07-04T15:03:46.391884Z",
     "iopub.status.idle": "2020-07-04T15:03:46.395493Z",
     "shell.execute_reply": "2020-07-04T15:03:46.395028Z",
     "shell.execute_reply.started": "2020-07-04T15:03:46.392083Z"
    }
   },
   "outputs": [
    {
     "data": {
      "text/plain": [
       "(17, 39)"
      ]
     },
     "execution_count": 38,
     "metadata": {},
     "output_type": "execute_result"
    }
   ],
   "source": [
    "ways.shape"
   ]
  },
  {
   "cell_type": "code",
   "execution_count": 39,
   "metadata": {
    "execution": {
     "iopub.execute_input": "2020-07-04T15:03:48.413686Z",
     "iopub.status.busy": "2020-07-04T15:03:48.413449Z",
     "iopub.status.idle": "2020-07-04T15:03:48.430055Z",
     "shell.execute_reply": "2020-07-04T15:03:48.429642Z",
     "shell.execute_reply.started": "2020-07-04T15:03:48.413662Z"
    }
   },
   "outputs": [
    {
     "data": {
      "text/html": [
       "<div>\n",
       "<style scoped>\n",
       "    .dataframe tbody tr th:only-of-type {\n",
       "        vertical-align: middle;\n",
       "    }\n",
       "\n",
       "    .dataframe tbody tr th {\n",
       "        vertical-align: top;\n",
       "    }\n",
       "\n",
       "    .dataframe thead th {\n",
       "        text-align: right;\n",
       "    }\n",
       "</style>\n",
       "<table border=\"1\" class=\"dataframe\">\n",
       "  <thead>\n",
       "    <tr style=\"text-align: right;\">\n",
       "      <th></th>\n",
       "      <th>id</th>\n",
       "      <th>tags</th>\n",
       "      <th>lat</th>\n",
       "      <th>lon</th>\n",
       "      <th>nudism_tag</th>\n",
       "      <th>nudism</th>\n",
       "      <th>natural</th>\n",
       "      <th>surface</th>\n",
       "      <th>name</th>\n",
       "      <th>tourism</th>\n",
       "      <th>...</th>\n",
       "      <th>tents</th>\n",
       "      <th>addr:city</th>\n",
       "      <th>power_supply</th>\n",
       "      <th>sauna</th>\n",
       "      <th>caravans</th>\n",
       "      <th>addr:street</th>\n",
       "      <th>washing_machine</th>\n",
       "      <th>source:nudist</th>\n",
       "      <th>nudist</th>\n",
       "      <th>barrier</th>\n",
       "    </tr>\n",
       "  </thead>\n",
       "  <tbody>\n",
       "    <tr>\n",
       "      <th>11620085</th>\n",
       "      <td>487400097.0</td>\n",
       "      <td>{'note': 'Was formerly mapped as a wood with a...</td>\n",
       "      <td>[51.7174211, 51.7170612, 51.7165404, 51.717613...</td>\n",
       "      <td>[-0.3588151, -0.3551418, -0.3573348, -0.357190...</td>\n",
       "      <td>obligatory</td>\n",
       "      <td>obligatory</td>\n",
       "      <td>NaN</td>\n",
       "      <td>NaN</td>\n",
       "      <td>Spielplatz</td>\n",
       "      <td>NaN</td>\n",
       "      <td>...</td>\n",
       "      <td>NaN</td>\n",
       "      <td>NaN</td>\n",
       "      <td>NaN</td>\n",
       "      <td>NaN</td>\n",
       "      <td>NaN</td>\n",
       "      <td>NaN</td>\n",
       "      <td>NaN</td>\n",
       "      <td>NaN</td>\n",
       "      <td>NaN</td>\n",
       "      <td>NaN</td>\n",
       "    </tr>\n",
       "  </tbody>\n",
       "</table>\n",
       "<p>1 rows × 39 columns</p>\n",
       "</div>"
      ],
      "text/plain": [
       "                   id                                               tags  \\\n",
       "11620085  487400097.0  {'note': 'Was formerly mapped as a wood with a...   \n",
       "\n",
       "                                                        lat  \\\n",
       "11620085  [51.7174211, 51.7170612, 51.7165404, 51.717613...   \n",
       "\n",
       "                                                        lon  nudism_tag  \\\n",
       "11620085  [-0.3588151, -0.3551418, -0.3573348, -0.357190...  obligatory   \n",
       "\n",
       "              nudism natural surface        name tourism   ...   tents  \\\n",
       "11620085  obligatory     NaN     NaN  Spielplatz     NaN   ...     NaN   \n",
       "\n",
       "         addr:city power_supply sauna caravans addr:street washing_machine  \\\n",
       "11620085       NaN          NaN   NaN      NaN         NaN             NaN   \n",
       "\n",
       "         source:nudist nudist barrier  \n",
       "11620085           NaN    NaN     NaN  \n",
       "\n",
       "[1 rows x 39 columns]"
      ]
     },
     "execution_count": 39,
     "metadata": {},
     "output_type": "execute_result"
    }
   ],
   "source": [
    "ways[ways.nudism_tag=='obligatory']"
   ]
  },
  {
   "cell_type": "code",
   "execution_count": 41,
   "metadata": {
    "execution": {
     "iopub.execute_input": "2020-07-04T15:06:28.084918Z",
     "iopub.status.busy": "2020-07-04T15:06:28.084697Z",
     "iopub.status.idle": "2020-07-04T15:06:28.088633Z",
     "shell.execute_reply": "2020-07-04T15:06:28.088219Z",
     "shell.execute_reply.started": "2020-07-04T15:06:28.084895Z"
    }
   },
   "outputs": [
    {
     "data": {
      "text/plain": [
       "Index(['id', 'tags', 'lat', 'lon', 'nudism_tag', 'nudism', 'natural',\n",
       "       'surface', 'name', 'tourism', 'source:name', 'beach', 'source', 'url',\n",
       "       'description', 'phone', 'note', 'website', 'access', 'club', 'landuse',\n",
       "       'leisure', 'wikidata', 'operator', 'long_name', 'addr:country',\n",
       "       'motorhome', 'addr:postcode', 'dryer', 'tents', 'addr:city',\n",
       "       'power_supply', 'sauna', 'caravans', 'addr:street', 'washing_machine',\n",
       "       'source:nudist', 'nudist', 'barrier'],\n",
       "      dtype='object')"
      ]
     },
     "execution_count": 41,
     "metadata": {},
     "output_type": "execute_result"
    }
   ],
   "source": [
    "ways.columns"
   ]
  },
  {
   "cell_type": "code",
   "execution_count": 42,
   "metadata": {
    "execution": {
     "iopub.execute_input": "2020-07-04T15:06:57.897642Z",
     "iopub.status.busy": "2020-07-04T15:06:57.897405Z",
     "iopub.status.idle": "2020-07-04T15:06:57.909429Z",
     "shell.execute_reply": "2020-07-04T15:06:57.909010Z",
     "shell.execute_reply.started": "2020-07-04T15:06:57.897618Z"
    }
   },
   "outputs": [
    {
     "data": {
      "text/html": [
       "<div>\n",
       "<style scoped>\n",
       "    .dataframe tbody tr th:only-of-type {\n",
       "        vertical-align: middle;\n",
       "    }\n",
       "\n",
       "    .dataframe tbody tr th {\n",
       "        vertical-align: top;\n",
       "    }\n",
       "\n",
       "    .dataframe thead th {\n",
       "        text-align: right;\n",
       "    }\n",
       "</style>\n",
       "<table border=\"1\" class=\"dataframe\">\n",
       "  <thead>\n",
       "    <tr style=\"text-align: right;\">\n",
       "      <th></th>\n",
       "      <th>nudism</th>\n",
       "      <th>natural</th>\n",
       "      <th>name</th>\n",
       "      <th>tourism</th>\n",
       "      <th>beach</th>\n",
       "      <th>source</th>\n",
       "      <th>addr:postcode</th>\n",
       "    </tr>\n",
       "  </thead>\n",
       "  <tbody>\n",
       "    <tr>\n",
       "      <th>430130</th>\n",
       "      <td>customary</td>\n",
       "      <td>beach</td>\n",
       "      <td>NaN</td>\n",
       "      <td>NaN</td>\n",
       "      <td>NaN</td>\n",
       "      <td>NaN</td>\n",
       "      <td>NaN</td>\n",
       "    </tr>\n",
       "    <tr>\n",
       "      <th>4166666</th>\n",
       "      <td>yes</td>\n",
       "      <td>beach</td>\n",
       "      <td>Studland Naturist Beach</td>\n",
       "      <td>attraction</td>\n",
       "      <td>NaN</td>\n",
       "      <td>NaN</td>\n",
       "      <td>NaN</td>\n",
       "    </tr>\n",
       "    <tr>\n",
       "      <th>5296449</th>\n",
       "      <td>designated</td>\n",
       "      <td>beach</td>\n",
       "      <td>Cleats Shore</td>\n",
       "      <td>NaN</td>\n",
       "      <td>NaN</td>\n",
       "      <td>NaN</td>\n",
       "      <td>NaN</td>\n",
       "    </tr>\n",
       "    <tr>\n",
       "      <th>5504328</th>\n",
       "      <td>no</td>\n",
       "      <td>beach</td>\n",
       "      <td>Brighton Beach</td>\n",
       "      <td>NaN</td>\n",
       "      <td>pebble</td>\n",
       "      <td>NPE</td>\n",
       "      <td>NaN</td>\n",
       "    </tr>\n",
       "    <tr>\n",
       "      <th>5631240</th>\n",
       "      <td>designated</td>\n",
       "      <td>beach</td>\n",
       "      <td>Ardeer Beach</td>\n",
       "      <td>NaN</td>\n",
       "      <td>NaN</td>\n",
       "      <td>NaN</td>\n",
       "      <td>NaN</td>\n",
       "    </tr>\n",
       "    <tr>\n",
       "      <th>6339863</th>\n",
       "      <td>yes</td>\n",
       "      <td>beach</td>\n",
       "      <td>Eastney Beach</td>\n",
       "      <td>NaN</td>\n",
       "      <td>NaN</td>\n",
       "      <td>os_opendata_streetview</td>\n",
       "      <td>NaN</td>\n",
       "    </tr>\n",
       "    <tr>\n",
       "      <th>6348725</th>\n",
       "      <td>designated</td>\n",
       "      <td>beach</td>\n",
       "      <td>Ardeer Beach</td>\n",
       "      <td>NaN</td>\n",
       "      <td>NaN</td>\n",
       "      <td>NaN</td>\n",
       "      <td>NaN</td>\n",
       "    </tr>\n",
       "    <tr>\n",
       "      <th>7634632</th>\n",
       "      <td>yes</td>\n",
       "      <td>NaN</td>\n",
       "      <td>Abbott's Farm (Naturist)</td>\n",
       "      <td>camp_site</td>\n",
       "      <td>NaN</td>\n",
       "      <td>NaN</td>\n",
       "      <td>NaN</td>\n",
       "    </tr>\n",
       "    <tr>\n",
       "      <th>8398454</th>\n",
       "      <td>yes</td>\n",
       "      <td>beach</td>\n",
       "      <td>Leysdown East</td>\n",
       "      <td>NaN</td>\n",
       "      <td>NaN</td>\n",
       "      <td>NaN</td>\n",
       "      <td>NaN</td>\n",
       "    </tr>\n",
       "    <tr>\n",
       "      <th>8694998</th>\n",
       "      <td>no</td>\n",
       "      <td>beach</td>\n",
       "      <td>NaN</td>\n",
       "      <td>NaN</td>\n",
       "      <td>NaN</td>\n",
       "      <td>NPE</td>\n",
       "      <td>NaN</td>\n",
       "    </tr>\n",
       "    <tr>\n",
       "      <th>10284036</th>\n",
       "      <td>yes</td>\n",
       "      <td>beach</td>\n",
       "      <td>St Osyth Naturist Beach</td>\n",
       "      <td>NaN</td>\n",
       "      <td>NaN</td>\n",
       "      <td>NaN</td>\n",
       "      <td>NaN</td>\n",
       "    </tr>\n",
       "    <tr>\n",
       "      <th>11620085</th>\n",
       "      <td>obligatory</td>\n",
       "      <td>NaN</td>\n",
       "      <td>Spielplatz</td>\n",
       "      <td>NaN</td>\n",
       "      <td>NaN</td>\n",
       "      <td>NaN</td>\n",
       "      <td>NaN</td>\n",
       "    </tr>\n",
       "    <tr>\n",
       "      <th>11679808</th>\n",
       "      <td>yes</td>\n",
       "      <td>NaN</td>\n",
       "      <td>North Kent Sun Club</td>\n",
       "      <td>camp_site</td>\n",
       "      <td>NaN</td>\n",
       "      <td>NaN</td>\n",
       "      <td>BR5 4ET</td>\n",
       "    </tr>\n",
       "    <tr>\n",
       "      <th>12599012</th>\n",
       "      <td>yes</td>\n",
       "      <td>beach</td>\n",
       "      <td>Brighton Naturist Beach</td>\n",
       "      <td>NaN</td>\n",
       "      <td>NaN</td>\n",
       "      <td>Bing; local_knowledge</td>\n",
       "      <td>NaN</td>\n",
       "    </tr>\n",
       "    <tr>\n",
       "      <th>14736157</th>\n",
       "      <td>permissive</td>\n",
       "      <td>beach</td>\n",
       "      <td>Petit Tor Beach</td>\n",
       "      <td>NaN</td>\n",
       "      <td>NaN</td>\n",
       "      <td>NaN</td>\n",
       "      <td>NaN</td>\n",
       "    </tr>\n",
       "    <tr>\n",
       "      <th>15756509</th>\n",
       "      <td>designated</td>\n",
       "      <td>NaN</td>\n",
       "      <td>Lakeland Outdoor Club</td>\n",
       "      <td>camp_site</td>\n",
       "      <td>NaN</td>\n",
       "      <td>NaN</td>\n",
       "      <td>NaN</td>\n",
       "    </tr>\n",
       "    <tr>\n",
       "      <th>16253134</th>\n",
       "      <td>yes</td>\n",
       "      <td>NaN</td>\n",
       "      <td>Heritage Club</td>\n",
       "      <td>caravan_site</td>\n",
       "      <td>NaN</td>\n",
       "      <td>NaN</td>\n",
       "      <td>NaN</td>\n",
       "    </tr>\n",
       "  </tbody>\n",
       "</table>\n",
       "</div>"
      ],
      "text/plain": [
       "              nudism natural                      name       tourism   beach  \\\n",
       "430130     customary   beach                       NaN           NaN     NaN   \n",
       "4166666          yes   beach   Studland Naturist Beach    attraction     NaN   \n",
       "5296449   designated   beach              Cleats Shore           NaN     NaN   \n",
       "5504328           no   beach            Brighton Beach           NaN  pebble   \n",
       "5631240   designated   beach              Ardeer Beach           NaN     NaN   \n",
       "6339863          yes   beach             Eastney Beach           NaN     NaN   \n",
       "6348725   designated   beach              Ardeer Beach           NaN     NaN   \n",
       "7634632          yes     NaN  Abbott's Farm (Naturist)     camp_site     NaN   \n",
       "8398454          yes   beach             Leysdown East           NaN     NaN   \n",
       "8694998           no   beach                       NaN           NaN     NaN   \n",
       "10284036         yes   beach   St Osyth Naturist Beach           NaN     NaN   \n",
       "11620085  obligatory     NaN                Spielplatz           NaN     NaN   \n",
       "11679808         yes     NaN       North Kent Sun Club     camp_site     NaN   \n",
       "12599012         yes   beach   Brighton Naturist Beach           NaN     NaN   \n",
       "14736157  permissive   beach           Petit Tor Beach           NaN     NaN   \n",
       "15756509  designated     NaN     Lakeland Outdoor Club     camp_site     NaN   \n",
       "16253134         yes     NaN             Heritage Club  caravan_site     NaN   \n",
       "\n",
       "                          source addr:postcode  \n",
       "430130                       NaN           NaN  \n",
       "4166666                      NaN           NaN  \n",
       "5296449                      NaN           NaN  \n",
       "5504328                      NPE           NaN  \n",
       "5631240                      NaN           NaN  \n",
       "6339863   os_opendata_streetview           NaN  \n",
       "6348725                      NaN           NaN  \n",
       "7634632                      NaN           NaN  \n",
       "8398454                      NaN           NaN  \n",
       "8694998                      NPE           NaN  \n",
       "10284036                     NaN           NaN  \n",
       "11620085                     NaN           NaN  \n",
       "11679808                     NaN       BR5 4ET  \n",
       "12599012   Bing; local_knowledge           NaN  \n",
       "14736157                     NaN           NaN  \n",
       "15756509                     NaN           NaN  \n",
       "16253134                     NaN           NaN  "
      ]
     },
     "execution_count": 42,
     "metadata": {},
     "output_type": "execute_result"
    }
   ],
   "source": [
    "ways[['nudism','natural','name','tourism','beach','source','addr:postcode']]"
   ]
  },
  {
   "cell_type": "markdown",
   "metadata": {},
   "source": [
    "#### Nodes"
   ]
  },
  {
   "cell_type": "code",
   "execution_count": 43,
   "metadata": {
    "execution": {
     "iopub.execute_input": "2020-07-04T15:08:00.869932Z",
     "iopub.status.busy": "2020-07-04T15:08:00.869732Z",
     "iopub.status.idle": "2020-07-04T15:08:10.827780Z",
     "shell.execute_reply": "2020-07-04T15:08:10.827274Z",
     "shell.execute_reply.started": "2020-07-04T15:08:00.869910Z"
    }
   },
   "outputs": [],
   "source": [
    "nodes = pd.read_parquet(FP_NODES)"
   ]
  },
  {
   "cell_type": "code",
   "execution_count": 44,
   "metadata": {
    "execution": {
     "iopub.execute_input": "2020-07-04T15:08:10.828880Z",
     "iopub.status.busy": "2020-07-04T15:08:10.828702Z",
     "iopub.status.idle": "2020-07-04T15:08:10.835944Z",
     "shell.execute_reply": "2020-07-04T15:08:10.835518Z",
     "shell.execute_reply.started": "2020-07-04T15:08:10.828860Z"
    }
   },
   "outputs": [
    {
     "data": {
      "text/html": [
       "<div>\n",
       "<style scoped>\n",
       "    .dataframe tbody tr th:only-of-type {\n",
       "        vertical-align: middle;\n",
       "    }\n",
       "\n",
       "    .dataframe tbody tr th {\n",
       "        vertical-align: top;\n",
       "    }\n",
       "\n",
       "    .dataframe thead th {\n",
       "        text-align: right;\n",
       "    }\n",
       "</style>\n",
       "<table border=\"1\" class=\"dataframe\">\n",
       "  <thead>\n",
       "    <tr style=\"text-align: right;\">\n",
       "      <th></th>\n",
       "      <th>id</th>\n",
       "      <th>tags</th>\n",
       "      <th>lat</th>\n",
       "      <th>lon</th>\n",
       "    </tr>\n",
       "  </thead>\n",
       "  <tbody>\n",
       "    <tr>\n",
       "      <th>0</th>\n",
       "      <td>148526412</td>\n",
       "      <td>{'created_by': 'JOSM'}</td>\n",
       "      <td>55.006420</td>\n",
       "      <td>-1.641230</td>\n",
       "    </tr>\n",
       "    <tr>\n",
       "      <th>1</th>\n",
       "      <td>148526417</td>\n",
       "      <td>{'created_by': 'JOSM'}</td>\n",
       "      <td>55.006074</td>\n",
       "      <td>-1.641132</td>\n",
       "    </tr>\n",
       "    <tr>\n",
       "      <th>2</th>\n",
       "      <td>148526763</td>\n",
       "      <td>{'highway': 'crossing', 'crossing': 'toucan'}</td>\n",
       "      <td>50.535192</td>\n",
       "      <td>-3.604767</td>\n",
       "    </tr>\n",
       "    <tr>\n",
       "      <th>3</th>\n",
       "      <td>148540085</td>\n",
       "      <td>{'name': 'Frodsham Water Sports Centre', 'tour...</td>\n",
       "      <td>53.300373</td>\n",
       "      <td>-2.706535</td>\n",
       "    </tr>\n",
       "    <tr>\n",
       "      <th>4</th>\n",
       "      <td>148541836</td>\n",
       "      <td>{'created_by': 'JOSM'}</td>\n",
       "      <td>51.514881</td>\n",
       "      <td>-0.740449</td>\n",
       "    </tr>\n",
       "  </tbody>\n",
       "</table>\n",
       "</div>"
      ],
      "text/plain": [
       "          id                                               tags        lat  \\\n",
       "0  148526412                             {'created_by': 'JOSM'}  55.006420   \n",
       "1  148526417                             {'created_by': 'JOSM'}  55.006074   \n",
       "2  148526763      {'highway': 'crossing', 'crossing': 'toucan'}  50.535192   \n",
       "3  148540085  {'name': 'Frodsham Water Sports Centre', 'tour...  53.300373   \n",
       "4  148541836                             {'created_by': 'JOSM'}  51.514881   \n",
       "\n",
       "        lon  \n",
       "0 -1.641230  \n",
       "1 -1.641132  \n",
       "2 -3.604767  \n",
       "3 -2.706535  \n",
       "4 -0.740449  "
      ]
     },
     "execution_count": 44,
     "metadata": {},
     "output_type": "execute_result"
    }
   ],
   "source": [
    "nodes.head()"
   ]
  },
  {
   "cell_type": "code",
   "execution_count": 45,
   "metadata": {
    "execution": {
     "iopub.execute_input": "2020-07-04T15:09:38.102392Z",
     "iopub.status.busy": "2020-07-04T15:09:38.102169Z",
     "iopub.status.idle": "2020-07-04T15:10:25.447831Z",
     "shell.execute_reply": "2020-07-04T15:10:25.447332Z",
     "shell.execute_reply.started": "2020-07-04T15:09:38.102368Z"
    }
   },
   "outputs": [],
   "source": [
    "nodes['nudism_tag']=nodes['tags'].apply(lambda x:eval(x).get('nudism'))"
   ]
  },
  {
   "cell_type": "code",
   "execution_count": 47,
   "metadata": {
    "execution": {
     "iopub.execute_input": "2020-07-04T15:13:12.680484Z",
     "iopub.status.busy": "2020-07-04T15:13:12.680254Z",
     "iopub.status.idle": "2020-07-04T15:13:12.851040Z",
     "shell.execute_reply": "2020-07-04T15:13:12.850624Z",
     "shell.execute_reply.started": "2020-07-04T15:13:12.680460Z"
    }
   },
   "outputs": [
    {
     "data": {
      "text/plain": [
       "2.09663605228591e-06"
      ]
     },
     "execution_count": 47,
     "metadata": {},
     "output_type": "execute_result"
    }
   ],
   "source": [
    "nodes.nudism_tag.notnull().mean()"
   ]
  },
  {
   "cell_type": "code",
   "execution_count": 48,
   "metadata": {
    "execution": {
     "iopub.execute_input": "2020-07-04T15:13:26.172842Z",
     "iopub.status.busy": "2020-07-04T15:13:26.172621Z",
     "iopub.status.idle": "2020-07-04T15:13:26.535494Z",
     "shell.execute_reply": "2020-07-04T15:13:26.535009Z",
     "shell.execute_reply.started": "2020-07-04T15:13:26.172818Z"
    }
   },
   "outputs": [],
   "source": [
    "nodes=nodes[nodes.nudism_tag.notnull()]"
   ]
  },
  {
   "cell_type": "code",
   "execution_count": 49,
   "metadata": {
    "execution": {
     "iopub.execute_input": "2020-07-04T15:13:28.226257Z",
     "iopub.status.busy": "2020-07-04T15:13:28.226049Z",
     "iopub.status.idle": "2020-07-04T15:13:28.229412Z",
     "shell.execute_reply": "2020-07-04T15:13:28.229029Z",
     "shell.execute_reply.started": "2020-07-04T15:13:28.226234Z"
    }
   },
   "outputs": [
    {
     "data": {
      "text/plain": [
       "(10, 5)"
      ]
     },
     "execution_count": 49,
     "metadata": {},
     "output_type": "execute_result"
    }
   ],
   "source": [
    "nodes.shape"
   ]
  },
  {
   "cell_type": "code",
   "execution_count": 50,
   "metadata": {
    "execution": {
     "iopub.execute_input": "2020-07-04T15:13:30.537819Z",
     "iopub.status.busy": "2020-07-04T15:13:30.537621Z",
     "iopub.status.idle": "2020-07-04T15:13:30.545892Z",
     "shell.execute_reply": "2020-07-04T15:13:30.545489Z",
     "shell.execute_reply.started": "2020-07-04T15:13:30.537798Z"
    }
   },
   "outputs": [
    {
     "data": {
      "text/html": [
       "<div>\n",
       "<style scoped>\n",
       "    .dataframe tbody tr th:only-of-type {\n",
       "        vertical-align: middle;\n",
       "    }\n",
       "\n",
       "    .dataframe tbody tr th {\n",
       "        vertical-align: top;\n",
       "    }\n",
       "\n",
       "    .dataframe thead th {\n",
       "        text-align: right;\n",
       "    }\n",
       "</style>\n",
       "<table border=\"1\" class=\"dataframe\">\n",
       "  <thead>\n",
       "    <tr style=\"text-align: right;\">\n",
       "      <th></th>\n",
       "      <th>id</th>\n",
       "      <th>tags</th>\n",
       "      <th>lat</th>\n",
       "      <th>lon</th>\n",
       "      <th>nudism_tag</th>\n",
       "    </tr>\n",
       "  </thead>\n",
       "  <tbody>\n",
       "    <tr>\n",
       "      <th>1708525</th>\n",
       "      <td>1723311196</td>\n",
       "      <td>{'wheelchair': 'limited', 'nudism': 'yes', 'na...</td>\n",
       "      <td>50.408038</td>\n",
       "      <td>1.559925</td>\n",
       "      <td>yes</td>\n",
       "    </tr>\n",
       "    <tr>\n",
       "      <th>1708526</th>\n",
       "      <td>1723311330</td>\n",
       "      <td>{'nudism': 'yes', 'natural': 'beach', 'name': ...</td>\n",
       "      <td>50.031651</td>\n",
       "      <td>1.305681</td>\n",
       "      <td>yes</td>\n",
       "    </tr>\n",
       "    <tr>\n",
       "      <th>1708527</th>\n",
       "      <td>1723311454</td>\n",
       "      <td>{'nudism': 'yes', 'natural': 'beach', 'name': ...</td>\n",
       "      <td>50.877254</td>\n",
       "      <td>1.638539</td>\n",
       "      <td>yes</td>\n",
       "    </tr>\n",
       "    <tr>\n",
       "      <th>1708528</th>\n",
       "      <td>1723311510</td>\n",
       "      <td>{'nudism': 'yes', 'natural': 'beach', 'name': ...</td>\n",
       "      <td>50.642635</td>\n",
       "      <td>1.576490</td>\n",
       "      <td>yes</td>\n",
       "    </tr>\n",
       "    <tr>\n",
       "      <th>1708529</th>\n",
       "      <td>1723311770</td>\n",
       "      <td>{'nudism': 'yes', 'natural': 'beach', 'name': ...</td>\n",
       "      <td>50.271592</td>\n",
       "      <td>1.539084</td>\n",
       "      <td>yes</td>\n",
       "    </tr>\n",
       "    <tr>\n",
       "      <th>1708530</th>\n",
       "      <td>1723311813</td>\n",
       "      <td>{'nudism': 'yes', 'natural': 'beach', 'name': ...</td>\n",
       "      <td>50.503071</td>\n",
       "      <td>1.577925</td>\n",
       "      <td>yes</td>\n",
       "    </tr>\n",
       "    <tr>\n",
       "      <th>3178632</th>\n",
       "      <td>5658513387</td>\n",
       "      <td>{'note': 'Not an official nudist beachbut loca...</td>\n",
       "      <td>51.100464</td>\n",
       "      <td>1.249234</td>\n",
       "      <td>customary</td>\n",
       "    </tr>\n",
       "    <tr>\n",
       "      <th>3349513</th>\n",
       "      <td>1797360071</td>\n",
       "      <td>{'nudism': 'yes', 'natural': 'beach', 'name': ...</td>\n",
       "      <td>50.620526</td>\n",
       "      <td>-3.348856</td>\n",
       "      <td>yes</td>\n",
       "    </tr>\n",
       "    <tr>\n",
       "      <th>3349514</th>\n",
       "      <td>1797360076</td>\n",
       "      <td>{'nudism': 'yes', 'natural': 'beach', 'name': ...</td>\n",
       "      <td>52.971897</td>\n",
       "      <td>0.806266</td>\n",
       "      <td>yes</td>\n",
       "    </tr>\n",
       "    <tr>\n",
       "      <th>3349515</th>\n",
       "      <td>1797360078</td>\n",
       "      <td>{'nudism': 'permissive', 'natural': 'beach', '...</td>\n",
       "      <td>50.828107</td>\n",
       "      <td>-0.222249</td>\n",
       "      <td>permissive</td>\n",
       "    </tr>\n",
       "  </tbody>\n",
       "</table>\n",
       "</div>"
      ],
      "text/plain": [
       "                 id                                               tags  \\\n",
       "1708525  1723311196  {'wheelchair': 'limited', 'nudism': 'yes', 'na...   \n",
       "1708526  1723311330  {'nudism': 'yes', 'natural': 'beach', 'name': ...   \n",
       "1708527  1723311454  {'nudism': 'yes', 'natural': 'beach', 'name': ...   \n",
       "1708528  1723311510  {'nudism': 'yes', 'natural': 'beach', 'name': ...   \n",
       "1708529  1723311770  {'nudism': 'yes', 'natural': 'beach', 'name': ...   \n",
       "1708530  1723311813  {'nudism': 'yes', 'natural': 'beach', 'name': ...   \n",
       "3178632  5658513387  {'note': 'Not an official nudist beachbut loca...   \n",
       "3349513  1797360071  {'nudism': 'yes', 'natural': 'beach', 'name': ...   \n",
       "3349514  1797360076  {'nudism': 'yes', 'natural': 'beach', 'name': ...   \n",
       "3349515  1797360078  {'nudism': 'permissive', 'natural': 'beach', '...   \n",
       "\n",
       "               lat       lon  nudism_tag  \n",
       "1708525  50.408038  1.559925         yes  \n",
       "1708526  50.031651  1.305681         yes  \n",
       "1708527  50.877254  1.638539         yes  \n",
       "1708528  50.642635  1.576490         yes  \n",
       "1708529  50.271592  1.539084         yes  \n",
       "1708530  50.503071  1.577925         yes  \n",
       "3178632  51.100464  1.249234   customary  \n",
       "3349513  50.620526 -3.348856         yes  \n",
       "3349514  52.971897  0.806266         yes  \n",
       "3349515  50.828107 -0.222249  permissive  "
      ]
     },
     "execution_count": 50,
     "metadata": {},
     "output_type": "execute_result"
    }
   ],
   "source": [
    "nodes"
   ]
  },
  {
   "cell_type": "code",
   "execution_count": 52,
   "metadata": {
    "execution": {
     "iopub.execute_input": "2020-07-04T15:14:34.636477Z",
     "iopub.status.busy": "2020-07-04T15:14:34.636258Z",
     "iopub.status.idle": "2020-07-04T15:14:34.644106Z",
     "shell.execute_reply": "2020-07-04T15:14:34.643660Z",
     "shell.execute_reply.started": "2020-07-04T15:14:34.636454Z"
    }
   },
   "outputs": [],
   "source": [
    "nodes = pd.concat([nodes, nodes.tags.apply(lambda x:eval(x)).apply(pd.Series)], axis=1, sort=False)"
   ]
  },
  {
   "cell_type": "code",
   "execution_count": 53,
   "metadata": {
    "execution": {
     "iopub.execute_input": "2020-07-04T15:14:37.738159Z",
     "iopub.status.busy": "2020-07-04T15:14:37.737942Z",
     "iopub.status.idle": "2020-07-04T15:14:37.741356Z",
     "shell.execute_reply": "2020-07-04T15:14:37.740969Z",
     "shell.execute_reply.started": "2020-07-04T15:14:37.738136Z"
    }
   },
   "outputs": [
    {
     "data": {
      "text/plain": [
       "(10, 11)"
      ]
     },
     "execution_count": 53,
     "metadata": {},
     "output_type": "execute_result"
    }
   ],
   "source": [
    "nodes.shape"
   ]
  },
  {
   "cell_type": "code",
   "execution_count": 54,
   "metadata": {
    "execution": {
     "iopub.execute_input": "2020-07-04T15:14:40.390924Z",
     "iopub.status.busy": "2020-07-04T15:14:40.390721Z",
     "iopub.status.idle": "2020-07-04T15:14:40.403240Z",
     "shell.execute_reply": "2020-07-04T15:14:40.402852Z",
     "shell.execute_reply.started": "2020-07-04T15:14:40.390902Z"
    }
   },
   "outputs": [
    {
     "data": {
      "text/html": [
       "<div>\n",
       "<style scoped>\n",
       "    .dataframe tbody tr th:only-of-type {\n",
       "        vertical-align: middle;\n",
       "    }\n",
       "\n",
       "    .dataframe tbody tr th {\n",
       "        vertical-align: top;\n",
       "    }\n",
       "\n",
       "    .dataframe thead th {\n",
       "        text-align: right;\n",
       "    }\n",
       "</style>\n",
       "<table border=\"1\" class=\"dataframe\">\n",
       "  <thead>\n",
       "    <tr style=\"text-align: right;\">\n",
       "      <th></th>\n",
       "      <th>id</th>\n",
       "      <th>tags</th>\n",
       "      <th>lat</th>\n",
       "      <th>lon</th>\n",
       "      <th>nudism_tag</th>\n",
       "      <th>wheelchair</th>\n",
       "      <th>nudism</th>\n",
       "      <th>natural</th>\n",
       "      <th>name</th>\n",
       "      <th>note</th>\n",
       "      <th>url</th>\n",
       "    </tr>\n",
       "  </thead>\n",
       "  <tbody>\n",
       "    <tr>\n",
       "      <th>1708525</th>\n",
       "      <td>1723311196</td>\n",
       "      <td>{'wheelchair': 'limited', 'nudism': 'yes', 'na...</td>\n",
       "      <td>50.408038</td>\n",
       "      <td>1.559925</td>\n",
       "      <td>yes</td>\n",
       "      <td>limited</td>\n",
       "      <td>yes</td>\n",
       "      <td>beach</td>\n",
       "      <td>Berck Plage</td>\n",
       "      <td>NaN</td>\n",
       "      <td>NaN</td>\n",
       "    </tr>\n",
       "    <tr>\n",
       "      <th>1708526</th>\n",
       "      <td>1723311330</td>\n",
       "      <td>{'nudism': 'yes', 'natural': 'beach', 'name': ...</td>\n",
       "      <td>50.031651</td>\n",
       "      <td>1.305681</td>\n",
       "      <td>yes</td>\n",
       "      <td>NaN</td>\n",
       "      <td>yes</td>\n",
       "      <td>beach</td>\n",
       "      <td>Criel sur mer</td>\n",
       "      <td>NaN</td>\n",
       "      <td>NaN</td>\n",
       "    </tr>\n",
       "    <tr>\n",
       "      <th>1708527</th>\n",
       "      <td>1723311454</td>\n",
       "      <td>{'nudism': 'yes', 'natural': 'beach', 'name': ...</td>\n",
       "      <td>50.877254</td>\n",
       "      <td>1.638539</td>\n",
       "      <td>yes</td>\n",
       "      <td>NaN</td>\n",
       "      <td>yes</td>\n",
       "      <td>beach</td>\n",
       "      <td>Dunes du Chatelet</td>\n",
       "      <td>NaN</td>\n",
       "      <td>NaN</td>\n",
       "    </tr>\n",
       "    <tr>\n",
       "      <th>1708528</th>\n",
       "      <td>1723311510</td>\n",
       "      <td>{'nudism': 'yes', 'natural': 'beach', 'name': ...</td>\n",
       "      <td>50.642635</td>\n",
       "      <td>1.576490</td>\n",
       "      <td>yes</td>\n",
       "      <td>NaN</td>\n",
       "      <td>yes</td>\n",
       "      <td>beach</td>\n",
       "      <td>Hardelot Plage</td>\n",
       "      <td>NaN</td>\n",
       "      <td>NaN</td>\n",
       "    </tr>\n",
       "    <tr>\n",
       "      <th>1708529</th>\n",
       "      <td>1723311770</td>\n",
       "      <td>{'nudism': 'yes', 'natural': 'beach', 'name': ...</td>\n",
       "      <td>50.271592</td>\n",
       "      <td>1.539084</td>\n",
       "      <td>yes</td>\n",
       "      <td>NaN</td>\n",
       "      <td>yes</td>\n",
       "      <td>beach</td>\n",
       "      <td>Plage du Domaine de Marquenterre</td>\n",
       "      <td>NaN</td>\n",
       "      <td>NaN</td>\n",
       "    </tr>\n",
       "    <tr>\n",
       "      <th>1708530</th>\n",
       "      <td>1723311813</td>\n",
       "      <td>{'nudism': 'yes', 'natural': 'beach', 'name': ...</td>\n",
       "      <td>50.503071</td>\n",
       "      <td>1.577925</td>\n",
       "      <td>yes</td>\n",
       "      <td>NaN</td>\n",
       "      <td>yes</td>\n",
       "      <td>beach</td>\n",
       "      <td>Stella Plage</td>\n",
       "      <td>NaN</td>\n",
       "      <td>NaN</td>\n",
       "    </tr>\n",
       "    <tr>\n",
       "      <th>3178632</th>\n",
       "      <td>5658513387</td>\n",
       "      <td>{'note': 'Not an official nudist beachbut loca...</td>\n",
       "      <td>51.100464</td>\n",
       "      <td>1.249234</td>\n",
       "      <td>customary</td>\n",
       "      <td>NaN</td>\n",
       "      <td>customary</td>\n",
       "      <td>beach</td>\n",
       "      <td>Abbot's Cliff Beach</td>\n",
       "      <td>Not an official nudist beachbut local knowledg...</td>\n",
       "      <td>NaN</td>\n",
       "    </tr>\n",
       "    <tr>\n",
       "      <th>3349513</th>\n",
       "      <td>1797360071</td>\n",
       "      <td>{'nudism': 'yes', 'natural': 'beach', 'name': ...</td>\n",
       "      <td>50.620526</td>\n",
       "      <td>-3.348856</td>\n",
       "      <td>yes</td>\n",
       "      <td>NaN</td>\n",
       "      <td>yes</td>\n",
       "      <td>beach</td>\n",
       "      <td>Budleigh Salterton</td>\n",
       "      <td>NaN</td>\n",
       "      <td>http://www.naturistholiday.info/UK/1240/Budlei...</td>\n",
       "    </tr>\n",
       "    <tr>\n",
       "      <th>3349514</th>\n",
       "      <td>1797360076</td>\n",
       "      <td>{'nudism': 'yes', 'natural': 'beach', 'name': ...</td>\n",
       "      <td>52.971897</td>\n",
       "      <td>0.806266</td>\n",
       "      <td>yes</td>\n",
       "      <td>NaN</td>\n",
       "      <td>yes</td>\n",
       "      <td>beach</td>\n",
       "      <td>Holkham Naturist Beach</td>\n",
       "      <td>NaN</td>\n",
       "      <td>http://www.naturistholiday.info/UK/1245/Holkha...</td>\n",
       "    </tr>\n",
       "    <tr>\n",
       "      <th>3349515</th>\n",
       "      <td>1797360078</td>\n",
       "      <td>{'nudism': 'permissive', 'natural': 'beach', '...</td>\n",
       "      <td>50.828107</td>\n",
       "      <td>-0.222249</td>\n",
       "      <td>permissive</td>\n",
       "      <td>NaN</td>\n",
       "      <td>permissive</td>\n",
       "      <td>beach</td>\n",
       "      <td>Portslade</td>\n",
       "      <td>NaN</td>\n",
       "      <td>http://www.naturistholiday.info/UK/1974/Portsl...</td>\n",
       "    </tr>\n",
       "  </tbody>\n",
       "</table>\n",
       "</div>"
      ],
      "text/plain": [
       "                 id                                               tags  \\\n",
       "1708525  1723311196  {'wheelchair': 'limited', 'nudism': 'yes', 'na...   \n",
       "1708526  1723311330  {'nudism': 'yes', 'natural': 'beach', 'name': ...   \n",
       "1708527  1723311454  {'nudism': 'yes', 'natural': 'beach', 'name': ...   \n",
       "1708528  1723311510  {'nudism': 'yes', 'natural': 'beach', 'name': ...   \n",
       "1708529  1723311770  {'nudism': 'yes', 'natural': 'beach', 'name': ...   \n",
       "1708530  1723311813  {'nudism': 'yes', 'natural': 'beach', 'name': ...   \n",
       "3178632  5658513387  {'note': 'Not an official nudist beachbut loca...   \n",
       "3349513  1797360071  {'nudism': 'yes', 'natural': 'beach', 'name': ...   \n",
       "3349514  1797360076  {'nudism': 'yes', 'natural': 'beach', 'name': ...   \n",
       "3349515  1797360078  {'nudism': 'permissive', 'natural': 'beach', '...   \n",
       "\n",
       "               lat       lon  nudism_tag wheelchair      nudism natural  \\\n",
       "1708525  50.408038  1.559925         yes    limited         yes   beach   \n",
       "1708526  50.031651  1.305681         yes        NaN         yes   beach   \n",
       "1708527  50.877254  1.638539         yes        NaN         yes   beach   \n",
       "1708528  50.642635  1.576490         yes        NaN         yes   beach   \n",
       "1708529  50.271592  1.539084         yes        NaN         yes   beach   \n",
       "1708530  50.503071  1.577925         yes        NaN         yes   beach   \n",
       "3178632  51.100464  1.249234   customary        NaN   customary   beach   \n",
       "3349513  50.620526 -3.348856         yes        NaN         yes   beach   \n",
       "3349514  52.971897  0.806266         yes        NaN         yes   beach   \n",
       "3349515  50.828107 -0.222249  permissive        NaN  permissive   beach   \n",
       "\n",
       "                                     name  \\\n",
       "1708525                       Berck Plage   \n",
       "1708526                     Criel sur mer   \n",
       "1708527                 Dunes du Chatelet   \n",
       "1708528                    Hardelot Plage   \n",
       "1708529  Plage du Domaine de Marquenterre   \n",
       "1708530                      Stella Plage   \n",
       "3178632               Abbot's Cliff Beach   \n",
       "3349513                Budleigh Salterton   \n",
       "3349514            Holkham Naturist Beach   \n",
       "3349515                         Portslade   \n",
       "\n",
       "                                                      note  \\\n",
       "1708525                                                NaN   \n",
       "1708526                                                NaN   \n",
       "1708527                                                NaN   \n",
       "1708528                                                NaN   \n",
       "1708529                                                NaN   \n",
       "1708530                                                NaN   \n",
       "3178632  Not an official nudist beachbut local knowledg...   \n",
       "3349513                                                NaN   \n",
       "3349514                                                NaN   \n",
       "3349515                                                NaN   \n",
       "\n",
       "                                                       url  \n",
       "1708525                                                NaN  \n",
       "1708526                                                NaN  \n",
       "1708527                                                NaN  \n",
       "1708528                                                NaN  \n",
       "1708529                                                NaN  \n",
       "1708530                                                NaN  \n",
       "3178632                                                NaN  \n",
       "3349513  http://www.naturistholiday.info/UK/1240/Budlei...  \n",
       "3349514  http://www.naturistholiday.info/UK/1245/Holkha...  \n",
       "3349515  http://www.naturistholiday.info/UK/1974/Portsl...  "
      ]
     },
     "execution_count": 54,
     "metadata": {},
     "output_type": "execute_result"
    }
   ],
   "source": [
    "nodes"
   ]
  },
  {
   "cell_type": "markdown",
   "metadata": {},
   "source": [
    "### Spatial join to postcodes"
   ]
  },
  {
   "cell_type": "markdown",
   "metadata": {},
   "source": [
    "#### Create ways geodf"
   ]
  },
  {
   "cell_type": "code",
   "execution_count": 80,
   "metadata": {
    "execution": {
     "iopub.execute_input": "2020-07-04T15:37:57.576311Z",
     "iopub.status.busy": "2020-07-04T15:37:57.576090Z",
     "iopub.status.idle": "2020-07-04T15:37:57.586093Z",
     "shell.execute_reply": "2020-07-04T15:37:57.585663Z",
     "shell.execute_reply.started": "2020-07-04T15:37:57.576288Z"
    }
   },
   "outputs": [],
   "source": [
    "ways['geometry'] = ways.apply(lambda x: MultiPoint(list(zip(eval(x['lon']),\n",
    "                                                            eval(x['lat'])\n",
    "                                                           )\n",
    "                                                       )\n",
    "                                                  ),axis=1)"
   ]
  },
  {
   "cell_type": "code",
   "execution_count": 81,
   "metadata": {
    "execution": {
     "iopub.execute_input": "2020-07-04T15:38:54.073986Z",
     "iopub.status.busy": "2020-07-04T15:38:54.073760Z",
     "iopub.status.idle": "2020-07-04T15:38:54.190659Z",
     "shell.execute_reply": "2020-07-04T15:38:54.190219Z",
     "shell.execute_reply.started": "2020-07-04T15:38:54.073964Z"
    }
   },
   "outputs": [],
   "source": [
    "ways=gpd.GeoDataFrame(ways, geometry='geometry', crs='EPSG:4326')"
   ]
  },
  {
   "cell_type": "code",
   "execution_count": 82,
   "metadata": {
    "execution": {
     "iopub.execute_input": "2020-07-04T15:38:58.727766Z",
     "iopub.status.busy": "2020-07-04T15:38:58.727546Z",
     "iopub.status.idle": "2020-07-04T15:38:58.760073Z",
     "shell.execute_reply": "2020-07-04T15:38:58.759658Z",
     "shell.execute_reply.started": "2020-07-04T15:38:58.727744Z"
    }
   },
   "outputs": [
    {
     "data": {
      "text/html": [
       "<div>\n",
       "<style scoped>\n",
       "    .dataframe tbody tr th:only-of-type {\n",
       "        vertical-align: middle;\n",
       "    }\n",
       "\n",
       "    .dataframe tbody tr th {\n",
       "        vertical-align: top;\n",
       "    }\n",
       "\n",
       "    .dataframe thead th {\n",
       "        text-align: right;\n",
       "    }\n",
       "</style>\n",
       "<table border=\"1\" class=\"dataframe\">\n",
       "  <thead>\n",
       "    <tr style=\"text-align: right;\">\n",
       "      <th></th>\n",
       "      <th>id</th>\n",
       "      <th>tags</th>\n",
       "      <th>lat</th>\n",
       "      <th>lon</th>\n",
       "      <th>nudism_tag</th>\n",
       "      <th>nudism</th>\n",
       "      <th>natural</th>\n",
       "      <th>surface</th>\n",
       "      <th>name</th>\n",
       "      <th>tourism</th>\n",
       "      <th>...</th>\n",
       "      <th>addr:city</th>\n",
       "      <th>power_supply</th>\n",
       "      <th>sauna</th>\n",
       "      <th>caravans</th>\n",
       "      <th>addr:street</th>\n",
       "      <th>washing_machine</th>\n",
       "      <th>source:nudist</th>\n",
       "      <th>nudist</th>\n",
       "      <th>barrier</th>\n",
       "      <th>geometry</th>\n",
       "    </tr>\n",
       "  </thead>\n",
       "  <tbody>\n",
       "    <tr>\n",
       "      <th>430130</th>\n",
       "      <td>338490982.0</td>\n",
       "      <td>{'nudism': 'customary', 'natural': 'beach', 's...</td>\n",
       "      <td>[55.4384074, 55.4380560, 55.4389051, 55.438807...</td>\n",
       "      <td>[-5.2469849, -5.2377426, -5.2437776, -5.245606...</td>\n",
       "      <td>customary</td>\n",
       "      <td>customary</td>\n",
       "      <td>beach</td>\n",
       "      <td>pebblestone</td>\n",
       "      <td>NaN</td>\n",
       "      <td>NaN</td>\n",
       "      <td>...</td>\n",
       "      <td>NaN</td>\n",
       "      <td>NaN</td>\n",
       "      <td>NaN</td>\n",
       "      <td>NaN</td>\n",
       "      <td>NaN</td>\n",
       "      <td>NaN</td>\n",
       "      <td>NaN</td>\n",
       "      <td>NaN</td>\n",
       "      <td>NaN</td>\n",
       "      <td>(POINT (-5.2469849 55.4384074), POINT (-5.2377...</td>\n",
       "    </tr>\n",
       "    <tr>\n",
       "      <th>4166666</th>\n",
       "      <td>230388260.0</td>\n",
       "      <td>{'nudism': 'yes', 'natural': 'beach', 'surface...</td>\n",
       "      <td>[50.6629957, 50.6606995, 50.6646572, 50.661110...</td>\n",
       "      <td>[-1.9487428, -1.9502858, -1.9475646, -1.950018...</td>\n",
       "      <td>yes</td>\n",
       "      <td>yes</td>\n",
       "      <td>beach</td>\n",
       "      <td>sand</td>\n",
       "      <td>Studland Naturist Beach</td>\n",
       "      <td>attraction</td>\n",
       "      <td>...</td>\n",
       "      <td>NaN</td>\n",
       "      <td>NaN</td>\n",
       "      <td>NaN</td>\n",
       "      <td>NaN</td>\n",
       "      <td>NaN</td>\n",
       "      <td>NaN</td>\n",
       "      <td>NaN</td>\n",
       "      <td>NaN</td>\n",
       "      <td>NaN</td>\n",
       "      <td>(POINT (-1.9487428 50.6629957), POINT (-1.9502...</td>\n",
       "    </tr>\n",
       "    <tr>\n",
       "      <th>5296449</th>\n",
       "      <td>457666787.0</td>\n",
       "      <td>{'nudism': 'designated', 'natural': 'beach', '...</td>\n",
       "      <td>[55.4394703, 55.4391214, 55.4391547, 55.439392...</td>\n",
       "      <td>[-5.2514198, -5.2504825, -5.2482859, -5.249379...</td>\n",
       "      <td>designated</td>\n",
       "      <td>designated</td>\n",
       "      <td>beach</td>\n",
       "      <td>sand</td>\n",
       "      <td>Cleats Shore</td>\n",
       "      <td>NaN</td>\n",
       "      <td>...</td>\n",
       "      <td>NaN</td>\n",
       "      <td>NaN</td>\n",
       "      <td>NaN</td>\n",
       "      <td>NaN</td>\n",
       "      <td>NaN</td>\n",
       "      <td>NaN</td>\n",
       "      <td>NaN</td>\n",
       "      <td>NaN</td>\n",
       "      <td>NaN</td>\n",
       "      <td>(POINT (-5.2514198 55.4394703), POINT (-5.2504...</td>\n",
       "    </tr>\n",
       "    <tr>\n",
       "      <th>5504328</th>\n",
       "      <td>96624951.0</td>\n",
       "      <td>{'nudism': 'no', 'source:name': 'local_knowled...</td>\n",
       "      <td>[50.8170231, 50.8161311, 50.8187325, 50.819078...</td>\n",
       "      <td>[-0.1237390, -0.1201978, -0.1320089, -0.133979...</td>\n",
       "      <td>no</td>\n",
       "      <td>no</td>\n",
       "      <td>beach</td>\n",
       "      <td>NaN</td>\n",
       "      <td>Brighton Beach</td>\n",
       "      <td>NaN</td>\n",
       "      <td>...</td>\n",
       "      <td>NaN</td>\n",
       "      <td>NaN</td>\n",
       "      <td>NaN</td>\n",
       "      <td>NaN</td>\n",
       "      <td>NaN</td>\n",
       "      <td>NaN</td>\n",
       "      <td>NaN</td>\n",
       "      <td>NaN</td>\n",
       "      <td>NaN</td>\n",
       "      <td>(POINT (-0.123739 50.8170231), POINT (-0.12019...</td>\n",
       "    </tr>\n",
       "    <tr>\n",
       "      <th>5631240</th>\n",
       "      <td>457668845.0</td>\n",
       "      <td>{'nudism': 'designated', 'natural': 'beach', '...</td>\n",
       "      <td>[55.6179708, 55.6133075, 55.6144670, 55.608728...</td>\n",
       "      <td>[-4.7227414, -4.7117769, -4.7149181, -4.702394...</td>\n",
       "      <td>designated</td>\n",
       "      <td>designated</td>\n",
       "      <td>beach</td>\n",
       "      <td>sand</td>\n",
       "      <td>Ardeer Beach</td>\n",
       "      <td>NaN</td>\n",
       "      <td>...</td>\n",
       "      <td>NaN</td>\n",
       "      <td>NaN</td>\n",
       "      <td>NaN</td>\n",
       "      <td>NaN</td>\n",
       "      <td>NaN</td>\n",
       "      <td>NaN</td>\n",
       "      <td>NaN</td>\n",
       "      <td>NaN</td>\n",
       "      <td>NaN</td>\n",
       "      <td>(POINT (-4.7227414 55.6179708), POINT (-4.7117...</td>\n",
       "    </tr>\n",
       "  </tbody>\n",
       "</table>\n",
       "<p>5 rows × 40 columns</p>\n",
       "</div>"
      ],
      "text/plain": [
       "                  id                                               tags  \\\n",
       "430130   338490982.0  {'nudism': 'customary', 'natural': 'beach', 's...   \n",
       "4166666  230388260.0  {'nudism': 'yes', 'natural': 'beach', 'surface...   \n",
       "5296449  457666787.0  {'nudism': 'designated', 'natural': 'beach', '...   \n",
       "5504328   96624951.0  {'nudism': 'no', 'source:name': 'local_knowled...   \n",
       "5631240  457668845.0  {'nudism': 'designated', 'natural': 'beach', '...   \n",
       "\n",
       "                                                       lat  \\\n",
       "430130   [55.4384074, 55.4380560, 55.4389051, 55.438807...   \n",
       "4166666  [50.6629957, 50.6606995, 50.6646572, 50.661110...   \n",
       "5296449  [55.4394703, 55.4391214, 55.4391547, 55.439392...   \n",
       "5504328  [50.8170231, 50.8161311, 50.8187325, 50.819078...   \n",
       "5631240  [55.6179708, 55.6133075, 55.6144670, 55.608728...   \n",
       "\n",
       "                                                       lon  nudism_tag  \\\n",
       "430130   [-5.2469849, -5.2377426, -5.2437776, -5.245606...   customary   \n",
       "4166666  [-1.9487428, -1.9502858, -1.9475646, -1.950018...         yes   \n",
       "5296449  [-5.2514198, -5.2504825, -5.2482859, -5.249379...  designated   \n",
       "5504328  [-0.1237390, -0.1201978, -0.1320089, -0.133979...          no   \n",
       "5631240  [-4.7227414, -4.7117769, -4.7149181, -4.702394...  designated   \n",
       "\n",
       "             nudism natural      surface                     name     tourism  \\\n",
       "430130    customary   beach  pebblestone                      NaN         NaN   \n",
       "4166666         yes   beach         sand  Studland Naturist Beach  attraction   \n",
       "5296449  designated   beach         sand             Cleats Shore         NaN   \n",
       "5504328          no   beach          NaN           Brighton Beach         NaN   \n",
       "5631240  designated   beach         sand             Ardeer Beach         NaN   \n",
       "\n",
       "                               ...                         addr:city  \\\n",
       "430130                         ...                               NaN   \n",
       "4166666                        ...                               NaN   \n",
       "5296449                        ...                               NaN   \n",
       "5504328                        ...                               NaN   \n",
       "5631240                        ...                               NaN   \n",
       "\n",
       "        power_supply sauna caravans addr:street washing_machine source:nudist  \\\n",
       "430130           NaN   NaN      NaN         NaN             NaN           NaN   \n",
       "4166666          NaN   NaN      NaN         NaN             NaN           NaN   \n",
       "5296449          NaN   NaN      NaN         NaN             NaN           NaN   \n",
       "5504328          NaN   NaN      NaN         NaN             NaN           NaN   \n",
       "5631240          NaN   NaN      NaN         NaN             NaN           NaN   \n",
       "\n",
       "        nudist barrier                                           geometry  \n",
       "430130     NaN     NaN  (POINT (-5.2469849 55.4384074), POINT (-5.2377...  \n",
       "4166666    NaN     NaN  (POINT (-1.9487428 50.6629957), POINT (-1.9502...  \n",
       "5296449    NaN     NaN  (POINT (-5.2514198 55.4394703), POINT (-5.2504...  \n",
       "5504328    NaN     NaN  (POINT (-0.123739 50.8170231), POINT (-0.12019...  \n",
       "5631240    NaN     NaN  (POINT (-4.7227414 55.6179708), POINT (-4.7117...  \n",
       "\n",
       "[5 rows x 40 columns]"
      ]
     },
     "execution_count": 82,
     "metadata": {},
     "output_type": "execute_result"
    }
   ],
   "source": [
    "ways.head()"
   ]
  },
  {
   "cell_type": "markdown",
   "metadata": {},
   "source": [
    "#### Create nodes geodf"
   ]
  },
  {
   "cell_type": "code",
   "execution_count": 83,
   "metadata": {
    "execution": {
     "iopub.execute_input": "2020-07-04T15:40:04.566822Z",
     "iopub.status.busy": "2020-07-04T15:40:04.566596Z",
     "iopub.status.idle": "2020-07-04T15:40:04.583997Z",
     "shell.execute_reply": "2020-07-04T15:40:04.583551Z",
     "shell.execute_reply.started": "2020-07-04T15:40:04.566798Z"
    }
   },
   "outputs": [],
   "source": [
    "nodes = gpd.GeoDataFrame(nodes, geometry=gpd.points_from_xy(nodes['lon'],\n",
    "                                                            nodes['lat']\n",
    "                                                           ), crs='EPSG:4326'\n",
    "                        )"
   ]
  },
  {
   "cell_type": "code",
   "execution_count": 84,
   "metadata": {
    "execution": {
     "iopub.execute_input": "2020-07-04T15:40:08.221909Z",
     "iopub.status.busy": "2020-07-04T15:40:08.221686Z",
     "iopub.status.idle": "2020-07-04T15:40:08.225169Z",
     "shell.execute_reply": "2020-07-04T15:40:08.224762Z",
     "shell.execute_reply.started": "2020-07-04T15:40:08.221887Z"
    }
   },
   "outputs": [
    {
     "data": {
      "text/plain": [
       "(10, 12)"
      ]
     },
     "execution_count": 84,
     "metadata": {},
     "output_type": "execute_result"
    }
   ],
   "source": [
    "nodes.shape"
   ]
  },
  {
   "cell_type": "code",
   "execution_count": 85,
   "metadata": {
    "execution": {
     "iopub.execute_input": "2020-07-04T15:40:10.134646Z",
     "iopub.status.busy": "2020-07-04T15:40:10.134432Z",
     "iopub.status.idle": "2020-07-04T15:40:10.148159Z",
     "shell.execute_reply": "2020-07-04T15:40:10.147753Z",
     "shell.execute_reply.started": "2020-07-04T15:40:10.134624Z"
    }
   },
   "outputs": [
    {
     "data": {
      "text/html": [
       "<div>\n",
       "<style scoped>\n",
       "    .dataframe tbody tr th:only-of-type {\n",
       "        vertical-align: middle;\n",
       "    }\n",
       "\n",
       "    .dataframe tbody tr th {\n",
       "        vertical-align: top;\n",
       "    }\n",
       "\n",
       "    .dataframe thead th {\n",
       "        text-align: right;\n",
       "    }\n",
       "</style>\n",
       "<table border=\"1\" class=\"dataframe\">\n",
       "  <thead>\n",
       "    <tr style=\"text-align: right;\">\n",
       "      <th></th>\n",
       "      <th>id</th>\n",
       "      <th>tags</th>\n",
       "      <th>lat</th>\n",
       "      <th>lon</th>\n",
       "      <th>nudism_tag</th>\n",
       "      <th>wheelchair</th>\n",
       "      <th>nudism</th>\n",
       "      <th>natural</th>\n",
       "      <th>name</th>\n",
       "      <th>note</th>\n",
       "      <th>url</th>\n",
       "      <th>geometry</th>\n",
       "    </tr>\n",
       "  </thead>\n",
       "  <tbody>\n",
       "    <tr>\n",
       "      <th>1708525</th>\n",
       "      <td>1723311196</td>\n",
       "      <td>{'wheelchair': 'limited', 'nudism': 'yes', 'na...</td>\n",
       "      <td>50.408038</td>\n",
       "      <td>1.559925</td>\n",
       "      <td>yes</td>\n",
       "      <td>limited</td>\n",
       "      <td>yes</td>\n",
       "      <td>beach</td>\n",
       "      <td>Berck Plage</td>\n",
       "      <td>NaN</td>\n",
       "      <td>NaN</td>\n",
       "      <td>POINT (1.5599249 50.4080376)</td>\n",
       "    </tr>\n",
       "    <tr>\n",
       "      <th>1708526</th>\n",
       "      <td>1723311330</td>\n",
       "      <td>{'nudism': 'yes', 'natural': 'beach', 'name': ...</td>\n",
       "      <td>50.031651</td>\n",
       "      <td>1.305681</td>\n",
       "      <td>yes</td>\n",
       "      <td>NaN</td>\n",
       "      <td>yes</td>\n",
       "      <td>beach</td>\n",
       "      <td>Criel sur mer</td>\n",
       "      <td>NaN</td>\n",
       "      <td>NaN</td>\n",
       "      <td>POINT (1.305681 50.031651)</td>\n",
       "    </tr>\n",
       "    <tr>\n",
       "      <th>1708527</th>\n",
       "      <td>1723311454</td>\n",
       "      <td>{'nudism': 'yes', 'natural': 'beach', 'name': ...</td>\n",
       "      <td>50.877254</td>\n",
       "      <td>1.638539</td>\n",
       "      <td>yes</td>\n",
       "      <td>NaN</td>\n",
       "      <td>yes</td>\n",
       "      <td>beach</td>\n",
       "      <td>Dunes du Chatelet</td>\n",
       "      <td>NaN</td>\n",
       "      <td>NaN</td>\n",
       "      <td>POINT (1.638539 50.877254)</td>\n",
       "    </tr>\n",
       "    <tr>\n",
       "      <th>1708528</th>\n",
       "      <td>1723311510</td>\n",
       "      <td>{'nudism': 'yes', 'natural': 'beach', 'name': ...</td>\n",
       "      <td>50.642635</td>\n",
       "      <td>1.576490</td>\n",
       "      <td>yes</td>\n",
       "      <td>NaN</td>\n",
       "      <td>yes</td>\n",
       "      <td>beach</td>\n",
       "      <td>Hardelot Plage</td>\n",
       "      <td>NaN</td>\n",
       "      <td>NaN</td>\n",
       "      <td>POINT (1.57649 50.642635)</td>\n",
       "    </tr>\n",
       "    <tr>\n",
       "      <th>1708529</th>\n",
       "      <td>1723311770</td>\n",
       "      <td>{'nudism': 'yes', 'natural': 'beach', 'name': ...</td>\n",
       "      <td>50.271592</td>\n",
       "      <td>1.539084</td>\n",
       "      <td>yes</td>\n",
       "      <td>NaN</td>\n",
       "      <td>yes</td>\n",
       "      <td>beach</td>\n",
       "      <td>Plage du Domaine de Marquenterre</td>\n",
       "      <td>NaN</td>\n",
       "      <td>NaN</td>\n",
       "      <td>POINT (1.539084 50.27159210000001)</td>\n",
       "    </tr>\n",
       "  </tbody>\n",
       "</table>\n",
       "</div>"
      ],
      "text/plain": [
       "                 id                                               tags  \\\n",
       "1708525  1723311196  {'wheelchair': 'limited', 'nudism': 'yes', 'na...   \n",
       "1708526  1723311330  {'nudism': 'yes', 'natural': 'beach', 'name': ...   \n",
       "1708527  1723311454  {'nudism': 'yes', 'natural': 'beach', 'name': ...   \n",
       "1708528  1723311510  {'nudism': 'yes', 'natural': 'beach', 'name': ...   \n",
       "1708529  1723311770  {'nudism': 'yes', 'natural': 'beach', 'name': ...   \n",
       "\n",
       "               lat       lon nudism_tag wheelchair nudism natural  \\\n",
       "1708525  50.408038  1.559925        yes    limited    yes   beach   \n",
       "1708526  50.031651  1.305681        yes        NaN    yes   beach   \n",
       "1708527  50.877254  1.638539        yes        NaN    yes   beach   \n",
       "1708528  50.642635  1.576490        yes        NaN    yes   beach   \n",
       "1708529  50.271592  1.539084        yes        NaN    yes   beach   \n",
       "\n",
       "                                     name note  url  \\\n",
       "1708525                       Berck Plage  NaN  NaN   \n",
       "1708526                     Criel sur mer  NaN  NaN   \n",
       "1708527                 Dunes du Chatelet  NaN  NaN   \n",
       "1708528                    Hardelot Plage  NaN  NaN   \n",
       "1708529  Plage du Domaine de Marquenterre  NaN  NaN   \n",
       "\n",
       "                                   geometry  \n",
       "1708525        POINT (1.5599249 50.4080376)  \n",
       "1708526          POINT (1.305681 50.031651)  \n",
       "1708527          POINT (1.638539 50.877254)  \n",
       "1708528           POINT (1.57649 50.642635)  \n",
       "1708529  POINT (1.539084 50.27159210000001)  "
      ]
     },
     "execution_count": 85,
     "metadata": {},
     "output_type": "execute_result"
    }
   ],
   "source": [
    "nodes.head()"
   ]
  },
  {
   "cell_type": "markdown",
   "metadata": {},
   "source": [
    "#### Create postcode geodf"
   ]
  },
  {
   "cell_type": "code",
   "execution_count": 86,
   "metadata": {
    "execution": {
     "iopub.execute_input": "2020-07-04T15:42:59.009262Z",
     "iopub.status.busy": "2020-07-04T15:42:59.009039Z",
     "iopub.status.idle": "2020-07-04T15:45:15.811601Z",
     "shell.execute_reply": "2020-07-04T15:45:15.811095Z",
     "shell.execute_reply.started": "2020-07-04T15:42:59.009238Z"
    }
   },
   "outputs": [],
   "source": [
    "uk_postcodes = pd.read_csv(FP_POSTCODE_BUFFER)"
   ]
  },
  {
   "cell_type": "code",
   "execution_count": 87,
   "metadata": {
    "execution": {
     "iopub.execute_input": "2020-07-04T15:46:25.853857Z",
     "iopub.status.busy": "2020-07-04T15:46:25.853623Z",
     "iopub.status.idle": "2020-07-04T15:46:25.860315Z",
     "shell.execute_reply": "2020-07-04T15:46:25.859920Z",
     "shell.execute_reply.started": "2020-07-04T15:46:25.853834Z"
    }
   },
   "outputs": [
    {
     "data": {
      "text/html": [
       "<div>\n",
       "<style scoped>\n",
       "    .dataframe tbody tr th:only-of-type {\n",
       "        vertical-align: middle;\n",
       "    }\n",
       "\n",
       "    .dataframe tbody tr th {\n",
       "        vertical-align: top;\n",
       "    }\n",
       "\n",
       "    .dataframe thead th {\n",
       "        text-align: right;\n",
       "    }\n",
       "</style>\n",
       "<table border=\"1\" class=\"dataframe\">\n",
       "  <thead>\n",
       "    <tr style=\"text-align: right;\">\n",
       "      <th></th>\n",
       "      <th>postcode</th>\n",
       "      <th>buffer</th>\n",
       "    </tr>\n",
       "  </thead>\n",
       "  <tbody>\n",
       "    <tr>\n",
       "      <th>0</th>\n",
       "      <td>AB1 0AA</td>\n",
       "      <td>POLYGON ((-2.240605211789701 57.10147399999729...</td>\n",
       "    </tr>\n",
       "    <tr>\n",
       "      <th>1</th>\n",
       "      <td>AB1 0AB</td>\n",
       "      <td>POLYGON ((-2.244062211789701 57.10255399999728...</td>\n",
       "    </tr>\n",
       "    <tr>\n",
       "      <th>2</th>\n",
       "      <td>AB1 0AD</td>\n",
       "      <td>POLYGON ((-2.246096211789701 57.10055599999728...</td>\n",
       "    </tr>\n",
       "    <tr>\n",
       "      <th>3</th>\n",
       "      <td>AB1 0AE</td>\n",
       "      <td>POLYGON ((-2.253462211789701 57.08444399999727...</td>\n",
       "    </tr>\n",
       "    <tr>\n",
       "      <th>4</th>\n",
       "      <td>AB1 0AF</td>\n",
       "      <td>POLYGON ((-2.255856211789701 57.09665599999727...</td>\n",
       "    </tr>\n",
       "  </tbody>\n",
       "</table>\n",
       "</div>"
      ],
      "text/plain": [
       "  postcode                                             buffer\n",
       "0  AB1 0AA  POLYGON ((-2.240605211789701 57.10147399999729...\n",
       "1  AB1 0AB  POLYGON ((-2.244062211789701 57.10255399999728...\n",
       "2  AB1 0AD  POLYGON ((-2.246096211789701 57.10055599999728...\n",
       "3  AB1 0AE  POLYGON ((-2.253462211789701 57.08444399999727...\n",
       "4  AB1 0AF  POLYGON ((-2.255856211789701 57.09665599999727..."
      ]
     },
     "execution_count": 87,
     "metadata": {},
     "output_type": "execute_result"
    }
   ],
   "source": [
    "uk_postcodes.head()"
   ]
  },
  {
   "cell_type": "code",
   "execution_count": 89,
   "metadata": {
    "execution": {
     "iopub.execute_input": "2020-07-04T15:48:02.494788Z",
     "iopub.status.busy": "2020-07-04T15:48:02.494567Z",
     "iopub.status.idle": "2020-07-04T15:48:02.499013Z",
     "shell.execute_reply": "2020-07-04T15:48:02.498614Z",
     "shell.execute_reply.started": "2020-07-04T15:48:02.494764Z"
    }
   },
   "outputs": [
    {
     "data": {
      "text/plain": [
       "postcode    object\n",
       "buffer      object\n",
       "dtype: object"
      ]
     },
     "execution_count": 89,
     "metadata": {},
     "output_type": "execute_result"
    }
   ],
   "source": [
    "uk_postcodes.dtypes"
   ]
  },
  {
   "cell_type": "code",
   "execution_count": 90,
   "metadata": {
    "execution": {
     "iopub.execute_input": "2020-07-04T15:48:48.515885Z",
     "iopub.status.busy": "2020-07-04T15:48:48.515660Z",
     "iopub.status.idle": "2020-07-04T15:54:25.703440Z",
     "shell.execute_reply": "2020-07-04T15:54:25.702941Z",
     "shell.execute_reply.started": "2020-07-04T15:48:48.515862Z"
    }
   },
   "outputs": [],
   "source": [
    "uk_postcodes['geometry']=uk_postcodes['buffer'].apply(wkt.loads) "
   ]
  },
  {
   "cell_type": "markdown",
   "metadata": {},
   "source": [
    "That took a while - 5 mins 37.19 s !"
   ]
  },
  {
   "cell_type": "code",
   "execution_count": 92,
   "metadata": {
    "execution": {
     "iopub.execute_input": "2020-07-04T15:55:50.472578Z",
     "iopub.status.busy": "2020-07-04T15:55:50.472349Z",
     "iopub.status.idle": "2020-07-04T15:55:51.232653Z",
     "shell.execute_reply": "2020-07-04T15:55:51.232178Z",
     "shell.execute_reply.started": "2020-07-04T15:55:50.472553Z"
    }
   },
   "outputs": [
    {
     "name": "stdout",
     "output_type": "stream",
     "text": [
      "CPU times: user 712 ms, sys: 48 ms, total: 760 ms\n",
      "Wall time: 756 ms\n"
     ]
    }
   ],
   "source": [
    "%%time\n",
    "uk_postcodes = gpd.GeoDataFrame(uk_postcodes, geometry='geometry', crs='EPSG:4326')"
   ]
  },
  {
   "cell_type": "markdown",
   "metadata": {},
   "source": [
    "Relatively quick, I guess loading the wkt took a while"
   ]
  },
  {
   "cell_type": "markdown",
   "metadata": {},
   "source": [
    "#### Spatial joins"
   ]
  },
  {
   "cell_type": "code",
   "execution_count": 97,
   "metadata": {
    "execution": {
     "iopub.execute_input": "2020-07-04T16:02:18.897489Z",
     "iopub.status.busy": "2020-07-04T16:02:18.897235Z",
     "iopub.status.idle": "2020-07-04T16:02:31.477436Z",
     "shell.execute_reply": "2020-07-04T16:02:31.476977Z",
     "shell.execute_reply.started": "2020-07-04T16:02:18.897436Z"
    }
   },
   "outputs": [
    {
     "name": "stdout",
     "output_type": "stream",
     "text": [
      "CPU times: user 12.3 s, sys: 260 ms, total: 12.6 s\n",
      "Wall time: 12.6 s\n"
     ]
    }
   ],
   "source": [
    "%%time\n",
    "ways_gdf = gpd.sjoin(uk_postcodes, ways, how='right', op='intersects').drop(['index_left'],axis=1)"
   ]
  },
  {
   "cell_type": "code",
   "execution_count": 98,
   "metadata": {
    "execution": {
     "iopub.execute_input": "2020-07-04T16:03:00.301208Z",
     "iopub.status.busy": "2020-07-04T16:03:00.300986Z",
     "iopub.status.idle": "2020-07-04T16:03:00.350548Z",
     "shell.execute_reply": "2020-07-04T16:03:00.350144Z",
     "shell.execute_reply.started": "2020-07-04T16:03:00.301185Z"
    }
   },
   "outputs": [
    {
     "data": {
      "text/html": [
       "<div>\n",
       "<style scoped>\n",
       "    .dataframe tbody tr th:only-of-type {\n",
       "        vertical-align: middle;\n",
       "    }\n",
       "\n",
       "    .dataframe tbody tr th {\n",
       "        vertical-align: top;\n",
       "    }\n",
       "\n",
       "    .dataframe thead th {\n",
       "        text-align: right;\n",
       "    }\n",
       "</style>\n",
       "<table border=\"1\" class=\"dataframe\">\n",
       "  <thead>\n",
       "    <tr style=\"text-align: right;\">\n",
       "      <th></th>\n",
       "      <th>postcode</th>\n",
       "      <th>buffer</th>\n",
       "      <th>id</th>\n",
       "      <th>tags</th>\n",
       "      <th>lat</th>\n",
       "      <th>lon</th>\n",
       "      <th>nudism_tag</th>\n",
       "      <th>nudism</th>\n",
       "      <th>natural</th>\n",
       "      <th>surface</th>\n",
       "      <th>...</th>\n",
       "      <th>addr:city</th>\n",
       "      <th>power_supply</th>\n",
       "      <th>sauna</th>\n",
       "      <th>caravans</th>\n",
       "      <th>addr:street</th>\n",
       "      <th>washing_machine</th>\n",
       "      <th>source:nudist</th>\n",
       "      <th>nudist</th>\n",
       "      <th>barrier</th>\n",
       "      <th>geometry</th>\n",
       "    </tr>\n",
       "  </thead>\n",
       "  <tbody>\n",
       "    <tr>\n",
       "      <th>5504328</th>\n",
       "      <td>BN1 1GF</td>\n",
       "      <td>POLYGON ((-0.1341982117897012 50.8202829999902...</td>\n",
       "      <td>96624951.0</td>\n",
       "      <td>{'nudism': 'no', 'source:name': 'local_knowled...</td>\n",
       "      <td>[50.8170231, 50.8161311, 50.8187325, 50.819078...</td>\n",
       "      <td>[-0.1237390, -0.1201978, -0.1320089, -0.133979...</td>\n",
       "      <td>no</td>\n",
       "      <td>no</td>\n",
       "      <td>beach</td>\n",
       "      <td>NaN</td>\n",
       "      <td>...</td>\n",
       "      <td>NaN</td>\n",
       "      <td>NaN</td>\n",
       "      <td>NaN</td>\n",
       "      <td>NaN</td>\n",
       "      <td>NaN</td>\n",
       "      <td>NaN</td>\n",
       "      <td>NaN</td>\n",
       "      <td>NaN</td>\n",
       "      <td>NaN</td>\n",
       "      <td>(POINT (-0.123739 50.8170231), POINT (-0.12019...</td>\n",
       "    </tr>\n",
       "    <tr>\n",
       "      <th>5504328</th>\n",
       "      <td>BN2 1TN</td>\n",
       "      <td>POLYGON ((-0.1320932117897012 50.8203929999902...</td>\n",
       "      <td>96624951.0</td>\n",
       "      <td>{'nudism': 'no', 'source:name': 'local_knowled...</td>\n",
       "      <td>[50.8170231, 50.8161311, 50.8187325, 50.819078...</td>\n",
       "      <td>[-0.1237390, -0.1201978, -0.1320089, -0.133979...</td>\n",
       "      <td>no</td>\n",
       "      <td>no</td>\n",
       "      <td>beach</td>\n",
       "      <td>NaN</td>\n",
       "      <td>...</td>\n",
       "      <td>NaN</td>\n",
       "      <td>NaN</td>\n",
       "      <td>NaN</td>\n",
       "      <td>NaN</td>\n",
       "      <td>NaN</td>\n",
       "      <td>NaN</td>\n",
       "      <td>NaN</td>\n",
       "      <td>NaN</td>\n",
       "      <td>NaN</td>\n",
       "      <td>(POINT (-0.123739 50.8170231), POINT (-0.12019...</td>\n",
       "    </tr>\n",
       "    <tr>\n",
       "      <th>5504328</th>\n",
       "      <td>BN2 1TE</td>\n",
       "      <td>POLYGON ((-0.1338522117897012 50.8204339999902...</td>\n",
       "      <td>96624951.0</td>\n",
       "      <td>{'nudism': 'no', 'source:name': 'local_knowled...</td>\n",
       "      <td>[50.8170231, 50.8161311, 50.8187325, 50.819078...</td>\n",
       "      <td>[-0.1237390, -0.1201978, -0.1320089, -0.133979...</td>\n",
       "      <td>no</td>\n",
       "      <td>no</td>\n",
       "      <td>beach</td>\n",
       "      <td>NaN</td>\n",
       "      <td>...</td>\n",
       "      <td>NaN</td>\n",
       "      <td>NaN</td>\n",
       "      <td>NaN</td>\n",
       "      <td>NaN</td>\n",
       "      <td>NaN</td>\n",
       "      <td>NaN</td>\n",
       "      <td>NaN</td>\n",
       "      <td>NaN</td>\n",
       "      <td>NaN</td>\n",
       "      <td>(POINT (-0.123739 50.8170231), POINT (-0.12019...</td>\n",
       "    </tr>\n",
       "    <tr>\n",
       "      <th>5504328</th>\n",
       "      <td>BN2 1TY</td>\n",
       "      <td>POLYGON ((-0.1337232117897012 50.8204549999902...</td>\n",
       "      <td>96624951.0</td>\n",
       "      <td>{'nudism': 'no', 'source:name': 'local_knowled...</td>\n",
       "      <td>[50.8170231, 50.8161311, 50.8187325, 50.819078...</td>\n",
       "      <td>[-0.1237390, -0.1201978, -0.1320089, -0.133979...</td>\n",
       "      <td>no</td>\n",
       "      <td>no</td>\n",
       "      <td>beach</td>\n",
       "      <td>NaN</td>\n",
       "      <td>...</td>\n",
       "      <td>NaN</td>\n",
       "      <td>NaN</td>\n",
       "      <td>NaN</td>\n",
       "      <td>NaN</td>\n",
       "      <td>NaN</td>\n",
       "      <td>NaN</td>\n",
       "      <td>NaN</td>\n",
       "      <td>NaN</td>\n",
       "      <td>NaN</td>\n",
       "      <td>(POINT (-0.123739 50.8170231), POINT (-0.12019...</td>\n",
       "    </tr>\n",
       "    <tr>\n",
       "      <th>5504328</th>\n",
       "      <td>BN1 1EL</td>\n",
       "      <td>POLYGON ((-0.1340912117897012 50.8205009999902...</td>\n",
       "      <td>96624951.0</td>\n",
       "      <td>{'nudism': 'no', 'source:name': 'local_knowled...</td>\n",
       "      <td>[50.8170231, 50.8161311, 50.8187325, 50.819078...</td>\n",
       "      <td>[-0.1237390, -0.1201978, -0.1320089, -0.133979...</td>\n",
       "      <td>no</td>\n",
       "      <td>no</td>\n",
       "      <td>beach</td>\n",
       "      <td>NaN</td>\n",
       "      <td>...</td>\n",
       "      <td>NaN</td>\n",
       "      <td>NaN</td>\n",
       "      <td>NaN</td>\n",
       "      <td>NaN</td>\n",
       "      <td>NaN</td>\n",
       "      <td>NaN</td>\n",
       "      <td>NaN</td>\n",
       "      <td>NaN</td>\n",
       "      <td>NaN</td>\n",
       "      <td>(POINT (-0.123739 50.8170231), POINT (-0.12019...</td>\n",
       "    </tr>\n",
       "  </tbody>\n",
       "</table>\n",
       "<p>5 rows × 42 columns</p>\n",
       "</div>"
      ],
      "text/plain": [
       "        postcode                                             buffer  \\\n",
       "5504328  BN1 1GF  POLYGON ((-0.1341982117897012 50.8202829999902...   \n",
       "5504328  BN2 1TN  POLYGON ((-0.1320932117897012 50.8203929999902...   \n",
       "5504328  BN2 1TE  POLYGON ((-0.1338522117897012 50.8204339999902...   \n",
       "5504328  BN2 1TY  POLYGON ((-0.1337232117897012 50.8204549999902...   \n",
       "5504328  BN1 1EL  POLYGON ((-0.1340912117897012 50.8205009999902...   \n",
       "\n",
       "                 id                                               tags  \\\n",
       "5504328  96624951.0  {'nudism': 'no', 'source:name': 'local_knowled...   \n",
       "5504328  96624951.0  {'nudism': 'no', 'source:name': 'local_knowled...   \n",
       "5504328  96624951.0  {'nudism': 'no', 'source:name': 'local_knowled...   \n",
       "5504328  96624951.0  {'nudism': 'no', 'source:name': 'local_knowled...   \n",
       "5504328  96624951.0  {'nudism': 'no', 'source:name': 'local_knowled...   \n",
       "\n",
       "                                                       lat  \\\n",
       "5504328  [50.8170231, 50.8161311, 50.8187325, 50.819078...   \n",
       "5504328  [50.8170231, 50.8161311, 50.8187325, 50.819078...   \n",
       "5504328  [50.8170231, 50.8161311, 50.8187325, 50.819078...   \n",
       "5504328  [50.8170231, 50.8161311, 50.8187325, 50.819078...   \n",
       "5504328  [50.8170231, 50.8161311, 50.8187325, 50.819078...   \n",
       "\n",
       "                                                       lon nudism_tag nudism  \\\n",
       "5504328  [-0.1237390, -0.1201978, -0.1320089, -0.133979...         no     no   \n",
       "5504328  [-0.1237390, -0.1201978, -0.1320089, -0.133979...         no     no   \n",
       "5504328  [-0.1237390, -0.1201978, -0.1320089, -0.133979...         no     no   \n",
       "5504328  [-0.1237390, -0.1201978, -0.1320089, -0.133979...         no     no   \n",
       "5504328  [-0.1237390, -0.1201978, -0.1320089, -0.133979...         no     no   \n",
       "\n",
       "        natural surface                        ...                          \\\n",
       "5504328   beach     NaN                        ...                           \n",
       "5504328   beach     NaN                        ...                           \n",
       "5504328   beach     NaN                        ...                           \n",
       "5504328   beach     NaN                        ...                           \n",
       "5504328   beach     NaN                        ...                           \n",
       "\n",
       "        addr:city power_supply sauna caravans addr:street washing_machine  \\\n",
       "5504328       NaN          NaN   NaN      NaN         NaN             NaN   \n",
       "5504328       NaN          NaN   NaN      NaN         NaN             NaN   \n",
       "5504328       NaN          NaN   NaN      NaN         NaN             NaN   \n",
       "5504328       NaN          NaN   NaN      NaN         NaN             NaN   \n",
       "5504328       NaN          NaN   NaN      NaN         NaN             NaN   \n",
       "\n",
       "        source:nudist nudist barrier  \\\n",
       "5504328           NaN    NaN     NaN   \n",
       "5504328           NaN    NaN     NaN   \n",
       "5504328           NaN    NaN     NaN   \n",
       "5504328           NaN    NaN     NaN   \n",
       "5504328           NaN    NaN     NaN   \n",
       "\n",
       "                                                  geometry  \n",
       "5504328  (POINT (-0.123739 50.8170231), POINT (-0.12019...  \n",
       "5504328  (POINT (-0.123739 50.8170231), POINT (-0.12019...  \n",
       "5504328  (POINT (-0.123739 50.8170231), POINT (-0.12019...  \n",
       "5504328  (POINT (-0.123739 50.8170231), POINT (-0.12019...  \n",
       "5504328  (POINT (-0.123739 50.8170231), POINT (-0.12019...  \n",
       "\n",
       "[5 rows x 42 columns]"
      ]
     },
     "execution_count": 98,
     "metadata": {},
     "output_type": "execute_result"
    }
   ],
   "source": [
    "ways_gdf.head()"
   ]
  },
  {
   "cell_type": "code",
   "execution_count": 100,
   "metadata": {
    "execution": {
     "iopub.execute_input": "2020-07-04T16:04:05.737411Z",
     "iopub.status.busy": "2020-07-04T16:04:05.737185Z",
     "iopub.status.idle": "2020-07-04T16:04:05.740971Z",
     "shell.execute_reply": "2020-07-04T16:04:05.740522Z",
     "shell.execute_reply.started": "2020-07-04T16:04:05.737388Z"
    }
   },
   "outputs": [
    {
     "data": {
      "text/plain": [
       "(125, 42)"
      ]
     },
     "execution_count": 100,
     "metadata": {},
     "output_type": "execute_result"
    }
   ],
   "source": [
    "ways_gdf.shape"
   ]
  },
  {
   "cell_type": "code",
   "execution_count": 101,
   "metadata": {
    "execution": {
     "iopub.execute_input": "2020-07-04T16:04:58.623078Z",
     "iopub.status.busy": "2020-07-04T16:04:58.622860Z",
     "iopub.status.idle": "2020-07-04T16:04:58.626789Z",
     "shell.execute_reply": "2020-07-04T16:04:58.626398Z",
     "shell.execute_reply.started": "2020-07-04T16:04:58.623055Z"
    }
   },
   "outputs": [
    {
     "data": {
      "text/plain": [
       "17"
      ]
     },
     "execution_count": 101,
     "metadata": {},
     "output_type": "execute_result"
    }
   ],
   "source": [
    "ways_gdf.id.nunique()"
   ]
  },
  {
   "cell_type": "code",
   "execution_count": 103,
   "metadata": {
    "execution": {
     "iopub.execute_input": "2020-07-04T16:05:23.413104Z",
     "iopub.status.busy": "2020-07-04T16:05:23.412894Z",
     "iopub.status.idle": "2020-07-04T16:05:23.416787Z",
     "shell.execute_reply": "2020-07-04T16:05:23.416397Z",
     "shell.execute_reply.started": "2020-07-04T16:05:23.413081Z"
    }
   },
   "outputs": [
    {
     "data": {
      "text/plain": [
       "Index(['postcode', 'buffer', 'id', 'tags', 'lat', 'lon', 'nudism_tag',\n",
       "       'nudism', 'natural', 'surface', 'name', 'tourism', 'source:name',\n",
       "       'beach', 'source', 'url', 'description', 'phone', 'note', 'website',\n",
       "       'access', 'club', 'landuse', 'leisure', 'wikidata', 'operator',\n",
       "       'long_name', 'addr:country', 'motorhome', 'addr:postcode', 'dryer',\n",
       "       'tents', 'addr:city', 'power_supply', 'sauna', 'caravans',\n",
       "       'addr:street', 'washing_machine', 'source:nudist', 'nudist', 'barrier',\n",
       "       'geometry'],\n",
       "      dtype='object')"
      ]
     },
     "execution_count": 103,
     "metadata": {},
     "output_type": "execute_result"
    }
   ],
   "source": [
    "ways_gdf.columns"
   ]
  },
  {
   "cell_type": "code",
   "execution_count": 105,
   "metadata": {
    "execution": {
     "iopub.execute_input": "2020-07-04T16:08:43.487256Z",
     "iopub.status.busy": "2020-07-04T16:08:43.487038Z",
     "iopub.status.idle": "2020-07-04T16:08:56.119883Z",
     "shell.execute_reply": "2020-07-04T16:08:56.119419Z",
     "shell.execute_reply.started": "2020-07-04T16:08:43.487232Z"
    }
   },
   "outputs": [
    {
     "name": "stdout",
     "output_type": "stream",
     "text": [
      "CPU times: user 12.3 s, sys: 296 ms, total: 12.6 s\n",
      "Wall time: 12.6 s\n"
     ]
    }
   ],
   "source": [
    "%%time\n",
    "nodes_gdf = gpd.sjoin(uk_postcodes, nodes, how='right', op='intersects').drop(['index_left'],axis=1)"
   ]
  },
  {
   "cell_type": "code",
   "execution_count": 106,
   "metadata": {
    "execution": {
     "iopub.execute_input": "2020-07-04T16:09:04.230842Z",
     "iopub.status.busy": "2020-07-04T16:09:04.230631Z",
     "iopub.status.idle": "2020-07-04T16:09:04.234014Z",
     "shell.execute_reply": "2020-07-04T16:09:04.233612Z",
     "shell.execute_reply.started": "2020-07-04T16:09:04.230820Z"
    }
   },
   "outputs": [
    {
     "data": {
      "text/plain": [
       "(11, 14)"
      ]
     },
     "execution_count": 106,
     "metadata": {},
     "output_type": "execute_result"
    }
   ],
   "source": [
    "nodes_gdf.shape"
   ]
  },
  {
   "cell_type": "code",
   "execution_count": 107,
   "metadata": {
    "execution": {
     "iopub.execute_input": "2020-07-04T16:09:12.026940Z",
     "iopub.status.busy": "2020-07-04T16:09:12.026734Z",
     "iopub.status.idle": "2020-07-04T16:09:12.030489Z",
     "shell.execute_reply": "2020-07-04T16:09:12.030103Z",
     "shell.execute_reply.started": "2020-07-04T16:09:12.026917Z"
    }
   },
   "outputs": [
    {
     "data": {
      "text/plain": [
       "10"
      ]
     },
     "execution_count": 107,
     "metadata": {},
     "output_type": "execute_result"
    }
   ],
   "source": [
    "nodes_gdf.id.nunique()"
   ]
  },
  {
   "cell_type": "markdown",
   "metadata": {},
   "source": [
    "### Combine data"
   ]
  },
  {
   "cell_type": "code",
   "execution_count": 108,
   "metadata": {
    "execution": {
     "iopub.execute_input": "2020-07-04T16:09:49.824840Z",
     "iopub.status.busy": "2020-07-04T16:09:49.824624Z",
     "iopub.status.idle": "2020-07-04T16:09:49.832663Z",
     "shell.execute_reply": "2020-07-04T16:09:49.832242Z",
     "shell.execute_reply.started": "2020-07-04T16:09:49.824817Z"
    }
   },
   "outputs": [],
   "source": [
    "ways_nodes=pd.concat([ways_gdf,nodes_gdf], axis=0, sort=False, ignore_index=True)"
   ]
  },
  {
   "cell_type": "code",
   "execution_count": 109,
   "metadata": {
    "execution": {
     "iopub.execute_input": "2020-07-04T16:09:52.777498Z",
     "iopub.status.busy": "2020-07-04T16:09:52.777268Z",
     "iopub.status.idle": "2020-07-04T16:09:52.829365Z",
     "shell.execute_reply": "2020-07-04T16:09:52.828971Z",
     "shell.execute_reply.started": "2020-07-04T16:09:52.777474Z"
    }
   },
   "outputs": [
    {
     "data": {
      "text/html": [
       "<div>\n",
       "<style scoped>\n",
       "    .dataframe tbody tr th:only-of-type {\n",
       "        vertical-align: middle;\n",
       "    }\n",
       "\n",
       "    .dataframe tbody tr th {\n",
       "        vertical-align: top;\n",
       "    }\n",
       "\n",
       "    .dataframe thead th {\n",
       "        text-align: right;\n",
       "    }\n",
       "</style>\n",
       "<table border=\"1\" class=\"dataframe\">\n",
       "  <thead>\n",
       "    <tr style=\"text-align: right;\">\n",
       "      <th></th>\n",
       "      <th>postcode</th>\n",
       "      <th>buffer</th>\n",
       "      <th>id</th>\n",
       "      <th>tags</th>\n",
       "      <th>lat</th>\n",
       "      <th>lon</th>\n",
       "      <th>nudism_tag</th>\n",
       "      <th>nudism</th>\n",
       "      <th>natural</th>\n",
       "      <th>surface</th>\n",
       "      <th>...</th>\n",
       "      <th>power_supply</th>\n",
       "      <th>sauna</th>\n",
       "      <th>caravans</th>\n",
       "      <th>addr:street</th>\n",
       "      <th>washing_machine</th>\n",
       "      <th>source:nudist</th>\n",
       "      <th>nudist</th>\n",
       "      <th>barrier</th>\n",
       "      <th>geometry</th>\n",
       "      <th>wheelchair</th>\n",
       "    </tr>\n",
       "  </thead>\n",
       "  <tbody>\n",
       "    <tr>\n",
       "      <th>0</th>\n",
       "      <td>BN1 1GF</td>\n",
       "      <td>POLYGON ((-0.1341982117897012 50.8202829999902...</td>\n",
       "      <td>96624951.0</td>\n",
       "      <td>{'nudism': 'no', 'source:name': 'local_knowled...</td>\n",
       "      <td>[50.8170231, 50.8161311, 50.8187325, 50.819078...</td>\n",
       "      <td>[-0.1237390, -0.1201978, -0.1320089, -0.133979...</td>\n",
       "      <td>no</td>\n",
       "      <td>no</td>\n",
       "      <td>beach</td>\n",
       "      <td>NaN</td>\n",
       "      <td>...</td>\n",
       "      <td>NaN</td>\n",
       "      <td>NaN</td>\n",
       "      <td>NaN</td>\n",
       "      <td>NaN</td>\n",
       "      <td>NaN</td>\n",
       "      <td>NaN</td>\n",
       "      <td>NaN</td>\n",
       "      <td>NaN</td>\n",
       "      <td>(POINT (-0.123739 50.8170231), POINT (-0.12019...</td>\n",
       "      <td>NaN</td>\n",
       "    </tr>\n",
       "    <tr>\n",
       "      <th>1</th>\n",
       "      <td>BN2 1TN</td>\n",
       "      <td>POLYGON ((-0.1320932117897012 50.8203929999902...</td>\n",
       "      <td>96624951.0</td>\n",
       "      <td>{'nudism': 'no', 'source:name': 'local_knowled...</td>\n",
       "      <td>[50.8170231, 50.8161311, 50.8187325, 50.819078...</td>\n",
       "      <td>[-0.1237390, -0.1201978, -0.1320089, -0.133979...</td>\n",
       "      <td>no</td>\n",
       "      <td>no</td>\n",
       "      <td>beach</td>\n",
       "      <td>NaN</td>\n",
       "      <td>...</td>\n",
       "      <td>NaN</td>\n",
       "      <td>NaN</td>\n",
       "      <td>NaN</td>\n",
       "      <td>NaN</td>\n",
       "      <td>NaN</td>\n",
       "      <td>NaN</td>\n",
       "      <td>NaN</td>\n",
       "      <td>NaN</td>\n",
       "      <td>(POINT (-0.123739 50.8170231), POINT (-0.12019...</td>\n",
       "      <td>NaN</td>\n",
       "    </tr>\n",
       "    <tr>\n",
       "      <th>2</th>\n",
       "      <td>BN2 1TE</td>\n",
       "      <td>POLYGON ((-0.1338522117897012 50.8204339999902...</td>\n",
       "      <td>96624951.0</td>\n",
       "      <td>{'nudism': 'no', 'source:name': 'local_knowled...</td>\n",
       "      <td>[50.8170231, 50.8161311, 50.8187325, 50.819078...</td>\n",
       "      <td>[-0.1237390, -0.1201978, -0.1320089, -0.133979...</td>\n",
       "      <td>no</td>\n",
       "      <td>no</td>\n",
       "      <td>beach</td>\n",
       "      <td>NaN</td>\n",
       "      <td>...</td>\n",
       "      <td>NaN</td>\n",
       "      <td>NaN</td>\n",
       "      <td>NaN</td>\n",
       "      <td>NaN</td>\n",
       "      <td>NaN</td>\n",
       "      <td>NaN</td>\n",
       "      <td>NaN</td>\n",
       "      <td>NaN</td>\n",
       "      <td>(POINT (-0.123739 50.8170231), POINT (-0.12019...</td>\n",
       "      <td>NaN</td>\n",
       "    </tr>\n",
       "    <tr>\n",
       "      <th>3</th>\n",
       "      <td>BN2 1TY</td>\n",
       "      <td>POLYGON ((-0.1337232117897012 50.8204549999902...</td>\n",
       "      <td>96624951.0</td>\n",
       "      <td>{'nudism': 'no', 'source:name': 'local_knowled...</td>\n",
       "      <td>[50.8170231, 50.8161311, 50.8187325, 50.819078...</td>\n",
       "      <td>[-0.1237390, -0.1201978, -0.1320089, -0.133979...</td>\n",
       "      <td>no</td>\n",
       "      <td>no</td>\n",
       "      <td>beach</td>\n",
       "      <td>NaN</td>\n",
       "      <td>...</td>\n",
       "      <td>NaN</td>\n",
       "      <td>NaN</td>\n",
       "      <td>NaN</td>\n",
       "      <td>NaN</td>\n",
       "      <td>NaN</td>\n",
       "      <td>NaN</td>\n",
       "      <td>NaN</td>\n",
       "      <td>NaN</td>\n",
       "      <td>(POINT (-0.123739 50.8170231), POINT (-0.12019...</td>\n",
       "      <td>NaN</td>\n",
       "    </tr>\n",
       "    <tr>\n",
       "      <th>4</th>\n",
       "      <td>BN1 1EL</td>\n",
       "      <td>POLYGON ((-0.1340912117897012 50.8205009999902...</td>\n",
       "      <td>96624951.0</td>\n",
       "      <td>{'nudism': 'no', 'source:name': 'local_knowled...</td>\n",
       "      <td>[50.8170231, 50.8161311, 50.8187325, 50.819078...</td>\n",
       "      <td>[-0.1237390, -0.1201978, -0.1320089, -0.133979...</td>\n",
       "      <td>no</td>\n",
       "      <td>no</td>\n",
       "      <td>beach</td>\n",
       "      <td>NaN</td>\n",
       "      <td>...</td>\n",
       "      <td>NaN</td>\n",
       "      <td>NaN</td>\n",
       "      <td>NaN</td>\n",
       "      <td>NaN</td>\n",
       "      <td>NaN</td>\n",
       "      <td>NaN</td>\n",
       "      <td>NaN</td>\n",
       "      <td>NaN</td>\n",
       "      <td>(POINT (-0.123739 50.8170231), POINT (-0.12019...</td>\n",
       "      <td>NaN</td>\n",
       "    </tr>\n",
       "  </tbody>\n",
       "</table>\n",
       "<p>5 rows × 43 columns</p>\n",
       "</div>"
      ],
      "text/plain": [
       "  postcode                                             buffer          id  \\\n",
       "0  BN1 1GF  POLYGON ((-0.1341982117897012 50.8202829999902...  96624951.0   \n",
       "1  BN2 1TN  POLYGON ((-0.1320932117897012 50.8203929999902...  96624951.0   \n",
       "2  BN2 1TE  POLYGON ((-0.1338522117897012 50.8204339999902...  96624951.0   \n",
       "3  BN2 1TY  POLYGON ((-0.1337232117897012 50.8204549999902...  96624951.0   \n",
       "4  BN1 1EL  POLYGON ((-0.1340912117897012 50.8205009999902...  96624951.0   \n",
       "\n",
       "                                                tags  \\\n",
       "0  {'nudism': 'no', 'source:name': 'local_knowled...   \n",
       "1  {'nudism': 'no', 'source:name': 'local_knowled...   \n",
       "2  {'nudism': 'no', 'source:name': 'local_knowled...   \n",
       "3  {'nudism': 'no', 'source:name': 'local_knowled...   \n",
       "4  {'nudism': 'no', 'source:name': 'local_knowled...   \n",
       "\n",
       "                                                 lat  \\\n",
       "0  [50.8170231, 50.8161311, 50.8187325, 50.819078...   \n",
       "1  [50.8170231, 50.8161311, 50.8187325, 50.819078...   \n",
       "2  [50.8170231, 50.8161311, 50.8187325, 50.819078...   \n",
       "3  [50.8170231, 50.8161311, 50.8187325, 50.819078...   \n",
       "4  [50.8170231, 50.8161311, 50.8187325, 50.819078...   \n",
       "\n",
       "                                                 lon nudism_tag nudism  \\\n",
       "0  [-0.1237390, -0.1201978, -0.1320089, -0.133979...         no     no   \n",
       "1  [-0.1237390, -0.1201978, -0.1320089, -0.133979...         no     no   \n",
       "2  [-0.1237390, -0.1201978, -0.1320089, -0.133979...         no     no   \n",
       "3  [-0.1237390, -0.1201978, -0.1320089, -0.133979...         no     no   \n",
       "4  [-0.1237390, -0.1201978, -0.1320089, -0.133979...         no     no   \n",
       "\n",
       "  natural surface    ...     power_supply sauna caravans addr:street  \\\n",
       "0   beach     NaN    ...              NaN   NaN      NaN         NaN   \n",
       "1   beach     NaN    ...              NaN   NaN      NaN         NaN   \n",
       "2   beach     NaN    ...              NaN   NaN      NaN         NaN   \n",
       "3   beach     NaN    ...              NaN   NaN      NaN         NaN   \n",
       "4   beach     NaN    ...              NaN   NaN      NaN         NaN   \n",
       "\n",
       "  washing_machine source:nudist nudist barrier  \\\n",
       "0             NaN           NaN    NaN     NaN   \n",
       "1             NaN           NaN    NaN     NaN   \n",
       "2             NaN           NaN    NaN     NaN   \n",
       "3             NaN           NaN    NaN     NaN   \n",
       "4             NaN           NaN    NaN     NaN   \n",
       "\n",
       "                                            geometry wheelchair  \n",
       "0  (POINT (-0.123739 50.8170231), POINT (-0.12019...        NaN  \n",
       "1  (POINT (-0.123739 50.8170231), POINT (-0.12019...        NaN  \n",
       "2  (POINT (-0.123739 50.8170231), POINT (-0.12019...        NaN  \n",
       "3  (POINT (-0.123739 50.8170231), POINT (-0.12019...        NaN  \n",
       "4  (POINT (-0.123739 50.8170231), POINT (-0.12019...        NaN  \n",
       "\n",
       "[5 rows x 43 columns]"
      ]
     },
     "execution_count": 109,
     "metadata": {},
     "output_type": "execute_result"
    }
   ],
   "source": [
    "ways_nodes.head()"
   ]
  },
  {
   "cell_type": "code",
   "execution_count": 110,
   "metadata": {
    "execution": {
     "iopub.execute_input": "2020-07-04T16:10:06.382906Z",
     "iopub.status.busy": "2020-07-04T16:10:06.382687Z",
     "iopub.status.idle": "2020-07-04T16:10:06.386596Z",
     "shell.execute_reply": "2020-07-04T16:10:06.386191Z",
     "shell.execute_reply.started": "2020-07-04T16:10:06.382882Z"
    }
   },
   "outputs": [
    {
     "data": {
      "text/plain": [
       "27"
      ]
     },
     "execution_count": 110,
     "metadata": {},
     "output_type": "execute_result"
    }
   ],
   "source": [
    "ways_nodes.id.nunique()"
   ]
  },
  {
   "cell_type": "code",
   "execution_count": 111,
   "metadata": {
    "execution": {
     "iopub.execute_input": "2020-07-04T16:10:09.117028Z",
     "iopub.status.busy": "2020-07-04T16:10:09.116813Z",
     "iopub.status.idle": "2020-07-04T16:10:09.120223Z",
     "shell.execute_reply": "2020-07-04T16:10:09.119831Z",
     "shell.execute_reply.started": "2020-07-04T16:10:09.117004Z"
    }
   },
   "outputs": [
    {
     "data": {
      "text/plain": [
       "(136, 43)"
      ]
     },
     "execution_count": 111,
     "metadata": {},
     "output_type": "execute_result"
    }
   ],
   "source": [
    "ways_nodes.shape"
   ]
  },
  {
   "cell_type": "markdown",
   "metadata": {},
   "source": [
    "#### Group by id"
   ]
  },
  {
   "cell_type": "code",
   "execution_count": 115,
   "metadata": {
    "execution": {
     "iopub.execute_input": "2020-07-04T16:13:00.746511Z",
     "iopub.status.busy": "2020-07-04T16:13:00.746288Z",
     "iopub.status.idle": "2020-07-04T16:13:00.750294Z",
     "shell.execute_reply": "2020-07-04T16:13:00.749877Z",
     "shell.execute_reply.started": "2020-07-04T16:13:00.746487Z"
    }
   },
   "outputs": [
    {
     "data": {
      "text/plain": [
       "Index(['postcode', 'buffer', 'id', 'tags', 'lat', 'lon', 'nudism_tag',\n",
       "       'nudism', 'natural', 'surface', 'name', 'tourism', 'source:name',\n",
       "       'beach', 'source', 'url', 'description', 'phone', 'note', 'website',\n",
       "       'access', 'club', 'landuse', 'leisure', 'wikidata', 'operator',\n",
       "       'long_name', 'addr:country', 'motorhome', 'addr:postcode', 'dryer',\n",
       "       'tents', 'addr:city', 'power_supply', 'sauna', 'caravans',\n",
       "       'addr:street', 'washing_machine', 'source:nudist', 'nudist', 'barrier',\n",
       "       'geometry', 'wheelchair'],\n",
       "      dtype='object')"
      ]
     },
     "execution_count": 115,
     "metadata": {},
     "output_type": "execute_result"
    }
   ],
   "source": [
    "ways_nodes.columns"
   ]
  },
  {
   "cell_type": "code",
   "execution_count": 122,
   "metadata": {
    "execution": {
     "iopub.execute_input": "2020-07-04T16:20:05.886903Z",
     "iopub.status.busy": "2020-07-04T16:20:05.886669Z",
     "iopub.status.idle": "2020-07-04T16:20:05.912762Z",
     "shell.execute_reply": "2020-07-04T16:20:05.912309Z",
     "shell.execute_reply.started": "2020-07-04T16:20:05.886878Z"
    }
   },
   "outputs": [],
   "source": [
    "ways_nodes = ways_nodes.groupby('id', as_index=False).agg({'postcode':lambda x:list(x),\n",
    "                                     'tags':'first',\n",
    "                                     'lat':'first',\n",
    "                                     'lon':'first',\n",
    "                                     'nudism':'first', \n",
    "                                     'natural':'first', \n",
    "                                     'surface':'first', \n",
    "                                     'name':'first', \n",
    "                                     'tourism':'first', \n",
    "                                     'source:name':'first',\n",
    "                                     'beach':'first', \n",
    "                                     'source':'first', \n",
    "                                     'url':'first', \n",
    "                                     'description':'first', \n",
    "                                     'phone':'first', \n",
    "                                     'note':'first', \n",
    "                                     'website':'first', \n",
    "                                     'access':'first', \n",
    "                                     'club':'first',\n",
    "                                     'landuse':'first',\n",
    "                                     'leisure':'first', \n",
    "                                     'wikidata':'first', \n",
    "                                     'operator':'first',\n",
    "                                     'long_name':'first',\n",
    "                                     'addr:country':'first', \n",
    "                                     'motorhome':'first', \n",
    "                                     'addr:postcode':'first',\n",
    "                                     'dryer':'first',\n",
    "                                     'tents':'first', \n",
    "                                     'addr:city':'first', \n",
    "                                     'power_supply':'first',\n",
    "                                     'sauna':'first', \n",
    "                                     'caravans':'first',\n",
    "                                     'addr:street':'first', \n",
    "                                     'washing_machine':'first', \n",
    "                                     'source:nudist':'first', \n",
    "                                     'nudist':'first', \n",
    "                                     'barrier':'first',\n",
    "                                     'geometry':'first', \n",
    "                                     'wheelchair':'first'\n",
    "                                    })"
   ]
  },
  {
   "cell_type": "code",
   "execution_count": 123,
   "metadata": {
    "execution": {
     "iopub.execute_input": "2020-07-04T16:20:09.477733Z",
     "iopub.status.busy": "2020-07-04T16:20:09.477506Z",
     "iopub.status.idle": "2020-07-04T16:20:09.510306Z",
     "shell.execute_reply": "2020-07-04T16:20:09.509891Z",
     "shell.execute_reply.started": "2020-07-04T16:20:09.477710Z"
    }
   },
   "outputs": [
    {
     "data": {
      "text/html": [
       "<div>\n",
       "<style scoped>\n",
       "    .dataframe tbody tr th:only-of-type {\n",
       "        vertical-align: middle;\n",
       "    }\n",
       "\n",
       "    .dataframe tbody tr th {\n",
       "        vertical-align: top;\n",
       "    }\n",
       "\n",
       "    .dataframe thead th {\n",
       "        text-align: right;\n",
       "    }\n",
       "</style>\n",
       "<table border=\"1\" class=\"dataframe\">\n",
       "  <thead>\n",
       "    <tr style=\"text-align: right;\">\n",
       "      <th></th>\n",
       "      <th>id</th>\n",
       "      <th>postcode</th>\n",
       "      <th>tags</th>\n",
       "      <th>lat</th>\n",
       "      <th>lon</th>\n",
       "      <th>nudism</th>\n",
       "      <th>natural</th>\n",
       "      <th>surface</th>\n",
       "      <th>name</th>\n",
       "      <th>tourism</th>\n",
       "      <th>...</th>\n",
       "      <th>power_supply</th>\n",
       "      <th>sauna</th>\n",
       "      <th>caravans</th>\n",
       "      <th>addr:street</th>\n",
       "      <th>washing_machine</th>\n",
       "      <th>source:nudist</th>\n",
       "      <th>nudist</th>\n",
       "      <th>barrier</th>\n",
       "      <th>geometry</th>\n",
       "      <th>wheelchair</th>\n",
       "    </tr>\n",
       "  </thead>\n",
       "  <tbody>\n",
       "    <tr>\n",
       "      <th>0</th>\n",
       "      <td>96624951.0</td>\n",
       "      <td>[BN1 1GF, BN2 1TN, BN2 1TE, BN2 1TY, BN1 1EL, ...</td>\n",
       "      <td>{'nudism': 'no', 'source:name': 'local_knowled...</td>\n",
       "      <td>[50.8170231, 50.8161311, 50.8187325, 50.819078...</td>\n",
       "      <td>[-0.1237390, -0.1201978, -0.1320089, -0.133979...</td>\n",
       "      <td>no</td>\n",
       "      <td>beach</td>\n",
       "      <td>NaN</td>\n",
       "      <td>Brighton Beach</td>\n",
       "      <td>NaN</td>\n",
       "      <td>...</td>\n",
       "      <td>NaN</td>\n",
       "      <td>NaN</td>\n",
       "      <td>NaN</td>\n",
       "      <td>NaN</td>\n",
       "      <td>NaN</td>\n",
       "      <td>NaN</td>\n",
       "      <td>NaN</td>\n",
       "      <td>NaN</td>\n",
       "      <td>(POINT (-0.123739 50.8170231), POINT (-0.12019...</td>\n",
       "      <td>NaN</td>\n",
       "    </tr>\n",
       "    <tr>\n",
       "      <th>1</th>\n",
       "      <td>166854264.0</td>\n",
       "      <td>[nan]</td>\n",
       "      <td>{'nudism': 'permissive', 'natural': 'beach', '...</td>\n",
       "      <td>[50.4886730, 50.4879567, 50.4886730, 50.487741...</td>\n",
       "      <td>[-3.5144732, -3.5142425, -3.5144732, -3.514711...</td>\n",
       "      <td>permissive</td>\n",
       "      <td>beach</td>\n",
       "      <td>NaN</td>\n",
       "      <td>Petit Tor Beach</td>\n",
       "      <td>NaN</td>\n",
       "      <td>...</td>\n",
       "      <td>NaN</td>\n",
       "      <td>NaN</td>\n",
       "      <td>NaN</td>\n",
       "      <td>NaN</td>\n",
       "      <td>NaN</td>\n",
       "      <td>OMG</td>\n",
       "      <td>permissive</td>\n",
       "      <td>NaN</td>\n",
       "      <td>(POINT (-3.5144732 50.488673), POINT (-3.51424...</td>\n",
       "      <td>NaN</td>\n",
       "    </tr>\n",
       "    <tr>\n",
       "      <th>2</th>\n",
       "      <td>168472197.0</td>\n",
       "      <td>[BN2 5UE, BN2 5TT, BN2 5TU, BN2 5TY, BN2 5UD, ...</td>\n",
       "      <td>{'nudism': 'no', 'natural': 'beach', 'source':...</td>\n",
       "      <td>[50.8134502, 50.8128533, 50.8133697, 50.813928...</td>\n",
       "      <td>[-0.1094882, -0.1075543, -0.1085115, -0.109789...</td>\n",
       "      <td>no</td>\n",
       "      <td>beach</td>\n",
       "      <td>NaN</td>\n",
       "      <td>NaN</td>\n",
       "      <td>NaN</td>\n",
       "      <td>...</td>\n",
       "      <td>NaN</td>\n",
       "      <td>NaN</td>\n",
       "      <td>NaN</td>\n",
       "      <td>NaN</td>\n",
       "      <td>NaN</td>\n",
       "      <td>NaN</td>\n",
       "      <td>NaN</td>\n",
       "      <td>NaN</td>\n",
       "      <td>(POINT (-0.1094882 50.8134502), POINT (-0.1075...</td>\n",
       "      <td>NaN</td>\n",
       "    </tr>\n",
       "    <tr>\n",
       "      <th>3</th>\n",
       "      <td>168472202.0</td>\n",
       "      <td>[PO4 9LJ]</td>\n",
       "      <td>{'nudism': 'yes', 'natural': 'beach', 'surface...</td>\n",
       "      <td>[50.7868400, 50.7870341, 50.7870883, 50.786557...</td>\n",
       "      <td>[-1.0309351, -1.0308962, -1.0304885, -1.032078...</td>\n",
       "      <td>yes</td>\n",
       "      <td>beach</td>\n",
       "      <td>pebbles</td>\n",
       "      <td>Eastney Beach</td>\n",
       "      <td>NaN</td>\n",
       "      <td>...</td>\n",
       "      <td>NaN</td>\n",
       "      <td>NaN</td>\n",
       "      <td>NaN</td>\n",
       "      <td>NaN</td>\n",
       "      <td>NaN</td>\n",
       "      <td>NaN</td>\n",
       "      <td>NaN</td>\n",
       "      <td>NaN</td>\n",
       "      <td>(POINT (-1.0309351 50.78684), POINT (-1.030896...</td>\n",
       "      <td>NaN</td>\n",
       "    </tr>\n",
       "    <tr>\n",
       "      <th>4</th>\n",
       "      <td>168472207.0</td>\n",
       "      <td>[ME12 4RP, ME12 4RL, ME12 4BS]</td>\n",
       "      <td>{'nudism': 'yes', 'natural': 'beach', 'name': ...</td>\n",
       "      <td>[51.3758713, 51.3767414, 51.3785798, 51.379209...</td>\n",
       "      <td>[0.9489995, 0.9476394, 0.9455351, 0.9450513, 0...</td>\n",
       "      <td>yes</td>\n",
       "      <td>beach</td>\n",
       "      <td>NaN</td>\n",
       "      <td>Leysdown East</td>\n",
       "      <td>NaN</td>\n",
       "      <td>...</td>\n",
       "      <td>NaN</td>\n",
       "      <td>NaN</td>\n",
       "      <td>NaN</td>\n",
       "      <td>NaN</td>\n",
       "      <td>NaN</td>\n",
       "      <td>NaN</td>\n",
       "      <td>NaN</td>\n",
       "      <td>NaN</td>\n",
       "      <td>(POINT (0.9489995 51.3758713), POINT (0.947639...</td>\n",
       "      <td>NaN</td>\n",
       "    </tr>\n",
       "  </tbody>\n",
       "</table>\n",
       "<p>5 rows × 41 columns</p>\n",
       "</div>"
      ],
      "text/plain": [
       "            id                                           postcode  \\\n",
       "0   96624951.0  [BN1 1GF, BN2 1TN, BN2 1TE, BN2 1TY, BN1 1EL, ...   \n",
       "1  166854264.0                                              [nan]   \n",
       "2  168472197.0  [BN2 5UE, BN2 5TT, BN2 5TU, BN2 5TY, BN2 5UD, ...   \n",
       "3  168472202.0                                          [PO4 9LJ]   \n",
       "4  168472207.0                     [ME12 4RP, ME12 4RL, ME12 4BS]   \n",
       "\n",
       "                                                tags  \\\n",
       "0  {'nudism': 'no', 'source:name': 'local_knowled...   \n",
       "1  {'nudism': 'permissive', 'natural': 'beach', '...   \n",
       "2  {'nudism': 'no', 'natural': 'beach', 'source':...   \n",
       "3  {'nudism': 'yes', 'natural': 'beach', 'surface...   \n",
       "4  {'nudism': 'yes', 'natural': 'beach', 'name': ...   \n",
       "\n",
       "                                                 lat  \\\n",
       "0  [50.8170231, 50.8161311, 50.8187325, 50.819078...   \n",
       "1  [50.4886730, 50.4879567, 50.4886730, 50.487741...   \n",
       "2  [50.8134502, 50.8128533, 50.8133697, 50.813928...   \n",
       "3  [50.7868400, 50.7870341, 50.7870883, 50.786557...   \n",
       "4  [51.3758713, 51.3767414, 51.3785798, 51.379209...   \n",
       "\n",
       "                                                 lon      nudism natural  \\\n",
       "0  [-0.1237390, -0.1201978, -0.1320089, -0.133979...          no   beach   \n",
       "1  [-3.5144732, -3.5142425, -3.5144732, -3.514711...  permissive   beach   \n",
       "2  [-0.1094882, -0.1075543, -0.1085115, -0.109789...          no   beach   \n",
       "3  [-1.0309351, -1.0308962, -1.0304885, -1.032078...         yes   beach   \n",
       "4  [0.9489995, 0.9476394, 0.9455351, 0.9450513, 0...         yes   beach   \n",
       "\n",
       "   surface             name tourism    ...     power_supply sauna caravans  \\\n",
       "0      NaN   Brighton Beach     NaN    ...              NaN   NaN      NaN   \n",
       "1      NaN  Petit Tor Beach     NaN    ...              NaN   NaN      NaN   \n",
       "2      NaN              NaN     NaN    ...              NaN   NaN      NaN   \n",
       "3  pebbles    Eastney Beach     NaN    ...              NaN   NaN      NaN   \n",
       "4      NaN    Leysdown East     NaN    ...              NaN   NaN      NaN   \n",
       "\n",
       "  addr:street washing_machine source:nudist      nudist barrier  \\\n",
       "0         NaN             NaN           NaN         NaN     NaN   \n",
       "1         NaN             NaN           OMG  permissive     NaN   \n",
       "2         NaN             NaN           NaN         NaN     NaN   \n",
       "3         NaN             NaN           NaN         NaN     NaN   \n",
       "4         NaN             NaN           NaN         NaN     NaN   \n",
       "\n",
       "                                            geometry wheelchair  \n",
       "0  (POINT (-0.123739 50.8170231), POINT (-0.12019...        NaN  \n",
       "1  (POINT (-3.5144732 50.488673), POINT (-3.51424...        NaN  \n",
       "2  (POINT (-0.1094882 50.8134502), POINT (-0.1075...        NaN  \n",
       "3  (POINT (-1.0309351 50.78684), POINT (-1.030896...        NaN  \n",
       "4  (POINT (0.9489995 51.3758713), POINT (0.947639...        NaN  \n",
       "\n",
       "[5 rows x 41 columns]"
      ]
     },
     "execution_count": 123,
     "metadata": {},
     "output_type": "execute_result"
    }
   ],
   "source": [
    "ways_nodes.head()"
   ]
  },
  {
   "cell_type": "code",
   "execution_count": 125,
   "metadata": {
    "execution": {
     "iopub.execute_input": "2020-07-04T16:20:19.975291Z",
     "iopub.status.busy": "2020-07-04T16:20:19.975062Z",
     "iopub.status.idle": "2020-07-04T16:20:19.978655Z",
     "shell.execute_reply": "2020-07-04T16:20:19.978230Z",
     "shell.execute_reply.started": "2020-07-04T16:20:19.975267Z"
    }
   },
   "outputs": [
    {
     "data": {
      "text/plain": [
       "(27, 41)"
      ]
     },
     "execution_count": 125,
     "metadata": {},
     "output_type": "execute_result"
    }
   ],
   "source": [
    "ways_nodes.shape"
   ]
  },
  {
   "cell_type": "markdown",
   "metadata": {},
   "source": [
    "We dropped buffer and geometry, so all good"
   ]
  },
  {
   "cell_type": "code",
   "execution_count": 127,
   "metadata": {
    "execution": {
     "iopub.execute_input": "2020-07-04T16:21:40.566230Z",
     "iopub.status.busy": "2020-07-04T16:21:40.565998Z",
     "iopub.status.idle": "2020-07-04T16:21:40.571173Z",
     "shell.execute_reply": "2020-07-04T16:21:40.570734Z",
     "shell.execute_reply.started": "2020-07-04T16:21:40.566207Z"
    }
   },
   "outputs": [
    {
     "data": {
      "text/plain": [
       "yes           16\n",
       "designated     4\n",
       "no             2\n",
       "permissive     2\n",
       "customary      2\n",
       "obligatory     1\n",
       "Name: nudism, dtype: int64"
      ]
     },
     "execution_count": 127,
     "metadata": {},
     "output_type": "execute_result"
    }
   ],
   "source": [
    "ways_nodes.nudism.value_counts()"
   ]
  },
  {
   "cell_type": "code",
   "execution_count": 130,
   "metadata": {
    "execution": {
     "iopub.execute_input": "2020-07-04T16:27:06.123949Z",
     "iopub.status.busy": "2020-07-04T16:27:06.123722Z",
     "iopub.status.idle": "2020-07-04T16:27:06.141717Z",
     "shell.execute_reply": "2020-07-04T16:27:06.141272Z",
     "shell.execute_reply.started": "2020-07-04T16:27:06.123926Z"
    }
   },
   "outputs": [
    {
     "data": {
      "text/html": [
       "<div>\n",
       "<style scoped>\n",
       "    .dataframe tbody tr th:only-of-type {\n",
       "        vertical-align: middle;\n",
       "    }\n",
       "\n",
       "    .dataframe tbody tr th {\n",
       "        vertical-align: top;\n",
       "    }\n",
       "\n",
       "    .dataframe thead th {\n",
       "        text-align: right;\n",
       "    }\n",
       "</style>\n",
       "<table border=\"1\" class=\"dataframe\">\n",
       "  <thead>\n",
       "    <tr style=\"text-align: right;\">\n",
       "      <th></th>\n",
       "      <th>name</th>\n",
       "      <th>note</th>\n",
       "      <th>nudism</th>\n",
       "      <th>postcode</th>\n",
       "      <th>lat</th>\n",
       "      <th>lon</th>\n",
       "    </tr>\n",
       "  </thead>\n",
       "  <tbody>\n",
       "    <tr>\n",
       "      <th>0</th>\n",
       "      <td>Brighton Beach</td>\n",
       "      <td>NaN</td>\n",
       "      <td>no</td>\n",
       "      <td>[BN1 1GF, BN2 1TN, BN2 1TE, BN2 1TY, BN1 1EL, ...</td>\n",
       "      <td>[50.8170231, 50.8161311, 50.8187325, 50.819078...</td>\n",
       "      <td>[-0.1237390, -0.1201978, -0.1320089, -0.133979...</td>\n",
       "    </tr>\n",
       "    <tr>\n",
       "      <th>1</th>\n",
       "      <td>Petit Tor Beach</td>\n",
       "      <td>NaN</td>\n",
       "      <td>permissive</td>\n",
       "      <td>[nan]</td>\n",
       "      <td>[50.4886730, 50.4879567, 50.4886730, 50.487741...</td>\n",
       "      <td>[-3.5144732, -3.5142425, -3.5144732, -3.514711...</td>\n",
       "    </tr>\n",
       "    <tr>\n",
       "      <th>2</th>\n",
       "      <td>NaN</td>\n",
       "      <td>NaN</td>\n",
       "      <td>no</td>\n",
       "      <td>[BN2 5UE, BN2 5TT, BN2 5TU, BN2 5TY, BN2 5UD, ...</td>\n",
       "      <td>[50.8134502, 50.8128533, 50.8133697, 50.813928...</td>\n",
       "      <td>[-0.1094882, -0.1075543, -0.1085115, -0.109789...</td>\n",
       "    </tr>\n",
       "    <tr>\n",
       "      <th>3</th>\n",
       "      <td>Eastney Beach</td>\n",
       "      <td>NaN</td>\n",
       "      <td>yes</td>\n",
       "      <td>[PO4 9LJ]</td>\n",
       "      <td>[50.7868400, 50.7870341, 50.7870883, 50.786557...</td>\n",
       "      <td>[-1.0309351, -1.0308962, -1.0304885, -1.032078...</td>\n",
       "    </tr>\n",
       "    <tr>\n",
       "      <th>4</th>\n",
       "      <td>Leysdown East</td>\n",
       "      <td>NaN</td>\n",
       "      <td>yes</td>\n",
       "      <td>[ME12 4RP, ME12 4RL, ME12 4BS]</td>\n",
       "      <td>[51.3758713, 51.3767414, 51.3785798, 51.379209...</td>\n",
       "      <td>[0.9489995, 0.9476394, 0.9455351, 0.9450513, 0...</td>\n",
       "    </tr>\n",
       "    <tr>\n",
       "      <th>5</th>\n",
       "      <td>St Osyth Naturist Beach</td>\n",
       "      <td>NaN</td>\n",
       "      <td>yes</td>\n",
       "      <td>[nan]</td>\n",
       "      <td>[51.7701689, 51.7702414, 51.7714794, 51.771184...</td>\n",
       "      <td>[1.0624927, 1.0674163, 1.0736186, 1.0729685, 1...</td>\n",
       "    </tr>\n",
       "    <tr>\n",
       "      <th>6</th>\n",
       "      <td>Brighton Naturist Beach</td>\n",
       "      <td>NaN</td>\n",
       "      <td>yes</td>\n",
       "      <td>[BN2 1FN, BN2 1FD, BN2 1FP, BN2 1FY]</td>\n",
       "      <td>[50.8143418, 50.8143418, 50.8149338, 50.815281...</td>\n",
       "      <td>[-0.1132645, -0.1132645, -0.1158513, -0.115545...</td>\n",
       "    </tr>\n",
       "    <tr>\n",
       "      <th>7</th>\n",
       "      <td>Abbott's Farm (Naturist)</td>\n",
       "      <td>NaN</td>\n",
       "      <td>yes</td>\n",
       "      <td>[nan]</td>\n",
       "      <td>[52.6759496, 52.6759691, 52.6759691, 52.677537...</td>\n",
       "      <td>[1.0071964, 1.0081888, 1.0081888, 1.0073828, 1...</td>\n",
       "    </tr>\n",
       "    <tr>\n",
       "      <th>8</th>\n",
       "      <td>Heritage Club</td>\n",
       "      <td>NaN</td>\n",
       "      <td>yes</td>\n",
       "      <td>[RG45 6BU, RG11 6BU, RG11 6BS, RG45 6BS]</td>\n",
       "      <td>[51.3696029, 51.3683716, 51.3685059, 51.367909...</td>\n",
       "      <td>[-0.8297808, -0.8317231, -0.8318042, -0.831352...</td>\n",
       "    </tr>\n",
       "    <tr>\n",
       "      <th>9</th>\n",
       "      <td>Studland Naturist Beach</td>\n",
       "      <td>NaN</td>\n",
       "      <td>yes</td>\n",
       "      <td>[nan]</td>\n",
       "      <td>[50.6629957, 50.6606995, 50.6646572, 50.661110...</td>\n",
       "      <td>[-1.9487428, -1.9502858, -1.9475646, -1.950018...</td>\n",
       "    </tr>\n",
       "    <tr>\n",
       "      <th>10</th>\n",
       "      <td>NaN</td>\n",
       "      <td>NaN</td>\n",
       "      <td>customary</td>\n",
       "      <td>[nan]</td>\n",
       "      <td>[55.4384074, 55.4380560, 55.4389051, 55.438807...</td>\n",
       "      <td>[-5.2469849, -5.2377426, -5.2437776, -5.245606...</td>\n",
       "    </tr>\n",
       "    <tr>\n",
       "      <th>11</th>\n",
       "      <td>Lakeland Outdoor Club</td>\n",
       "      <td>NaN</td>\n",
       "      <td>designated</td>\n",
       "      <td>[nan]</td>\n",
       "      <td>[54.1944835, 54.1978986, 54.1976376, 54.197251...</td>\n",
       "      <td>[-3.3264952, -3.3261447, -3.3298598, -3.325256...</td>\n",
       "    </tr>\n",
       "    <tr>\n",
       "      <th>12</th>\n",
       "      <td>Ardeer Beach</td>\n",
       "      <td>NaN</td>\n",
       "      <td>designated</td>\n",
       "      <td>[nan]</td>\n",
       "      <td>[55.6180147, 55.6203397, 55.6232237, 55.618868...</td>\n",
       "      <td>[-4.7234138, -4.7302037, -4.7375026, -4.725387...</td>\n",
       "    </tr>\n",
       "    <tr>\n",
       "      <th>13</th>\n",
       "      <td>Cleats Shore</td>\n",
       "      <td>NaN</td>\n",
       "      <td>designated</td>\n",
       "      <td>[nan]</td>\n",
       "      <td>[55.4394703, 55.4391214, 55.4391547, 55.439392...</td>\n",
       "      <td>[-5.2514198, -5.2504825, -5.2482859, -5.249379...</td>\n",
       "    </tr>\n",
       "    <tr>\n",
       "      <th>14</th>\n",
       "      <td>Ardeer Beach</td>\n",
       "      <td>NaN</td>\n",
       "      <td>designated</td>\n",
       "      <td>[nan]</td>\n",
       "      <td>[55.6179708, 55.6133075, 55.6144670, 55.608728...</td>\n",
       "      <td>[-4.7227414, -4.7117769, -4.7149181, -4.702394...</td>\n",
       "    </tr>\n",
       "    <tr>\n",
       "      <th>15</th>\n",
       "      <td>Spielplatz</td>\n",
       "      <td>Was formerly mapped as a wood with a place=ham...</td>\n",
       "      <td>obligatory</td>\n",
       "      <td>[AL2 2SE, AL2 3TE, AL2 2SG, AL2 3TD, AL2 3RR, ...</td>\n",
       "      <td>[51.7174211, 51.7170612, 51.7165404, 51.717613...</td>\n",
       "      <td>[-0.3588151, -0.3551418, -0.3573348, -0.357190...</td>\n",
       "    </tr>\n",
       "    <tr>\n",
       "      <th>16</th>\n",
       "      <td>North Kent Sun Club</td>\n",
       "      <td>NaN</td>\n",
       "      <td>yes</td>\n",
       "      <td>[BR8 7QJ]</td>\n",
       "      <td>[51.3952993, 51.3938622, 51.3972243, 51.394223...</td>\n",
       "      <td>[0.1428504, 0.1430449, 0.1382692, 0.1431200, 0...</td>\n",
       "    </tr>\n",
       "    <tr>\n",
       "      <th>17</th>\n",
       "      <td>Berck Plage</td>\n",
       "      <td>NaN</td>\n",
       "      <td>yes</td>\n",
       "      <td>[nan]</td>\n",
       "      <td>50.408</td>\n",
       "      <td>1.55992</td>\n",
       "    </tr>\n",
       "    <tr>\n",
       "      <th>18</th>\n",
       "      <td>Criel sur mer</td>\n",
       "      <td>NaN</td>\n",
       "      <td>yes</td>\n",
       "      <td>[nan]</td>\n",
       "      <td>50.0317</td>\n",
       "      <td>1.30568</td>\n",
       "    </tr>\n",
       "    <tr>\n",
       "      <th>19</th>\n",
       "      <td>Dunes du Chatelet</td>\n",
       "      <td>NaN</td>\n",
       "      <td>yes</td>\n",
       "      <td>[nan]</td>\n",
       "      <td>50.8773</td>\n",
       "      <td>1.63854</td>\n",
       "    </tr>\n",
       "    <tr>\n",
       "      <th>20</th>\n",
       "      <td>Hardelot Plage</td>\n",
       "      <td>NaN</td>\n",
       "      <td>yes</td>\n",
       "      <td>[nan]</td>\n",
       "      <td>50.6426</td>\n",
       "      <td>1.57649</td>\n",
       "    </tr>\n",
       "    <tr>\n",
       "      <th>21</th>\n",
       "      <td>Plage du Domaine de Marquenterre</td>\n",
       "      <td>NaN</td>\n",
       "      <td>yes</td>\n",
       "      <td>[nan]</td>\n",
       "      <td>50.2716</td>\n",
       "      <td>1.53908</td>\n",
       "    </tr>\n",
       "    <tr>\n",
       "      <th>22</th>\n",
       "      <td>Stella Plage</td>\n",
       "      <td>NaN</td>\n",
       "      <td>yes</td>\n",
       "      <td>[nan]</td>\n",
       "      <td>50.5031</td>\n",
       "      <td>1.57793</td>\n",
       "    </tr>\n",
       "    <tr>\n",
       "      <th>23</th>\n",
       "      <td>Budleigh Salterton</td>\n",
       "      <td>NaN</td>\n",
       "      <td>yes</td>\n",
       "      <td>[nan]</td>\n",
       "      <td>50.6205</td>\n",
       "      <td>-3.34886</td>\n",
       "    </tr>\n",
       "    <tr>\n",
       "      <th>24</th>\n",
       "      <td>Holkham Naturist Beach</td>\n",
       "      <td>NaN</td>\n",
       "      <td>yes</td>\n",
       "      <td>[nan]</td>\n",
       "      <td>52.9719</td>\n",
       "      <td>0.806266</td>\n",
       "    </tr>\n",
       "    <tr>\n",
       "      <th>25</th>\n",
       "      <td>Portslade</td>\n",
       "      <td>NaN</td>\n",
       "      <td>permissive</td>\n",
       "      <td>[BN4 1WG, BN4 1WQ]</td>\n",
       "      <td>50.8281</td>\n",
       "      <td>-0.222249</td>\n",
       "    </tr>\n",
       "    <tr>\n",
       "      <th>26</th>\n",
       "      <td>Abbot's Cliff Beach</td>\n",
       "      <td>Not an official nudist beachbut local knowledg...</td>\n",
       "      <td>customary</td>\n",
       "      <td>[nan]</td>\n",
       "      <td>51.1005</td>\n",
       "      <td>1.24923</td>\n",
       "    </tr>\n",
       "  </tbody>\n",
       "</table>\n",
       "</div>"
      ],
      "text/plain": [
       "                                name  \\\n",
       "0                     Brighton Beach   \n",
       "1                    Petit Tor Beach   \n",
       "2                                NaN   \n",
       "3                      Eastney Beach   \n",
       "4                      Leysdown East   \n",
       "5            St Osyth Naturist Beach   \n",
       "6            Brighton Naturist Beach   \n",
       "7           Abbott's Farm (Naturist)   \n",
       "8                      Heritage Club   \n",
       "9            Studland Naturist Beach   \n",
       "10                               NaN   \n",
       "11             Lakeland Outdoor Club   \n",
       "12                      Ardeer Beach   \n",
       "13                      Cleats Shore   \n",
       "14                      Ardeer Beach   \n",
       "15                        Spielplatz   \n",
       "16               North Kent Sun Club   \n",
       "17                       Berck Plage   \n",
       "18                     Criel sur mer   \n",
       "19                 Dunes du Chatelet   \n",
       "20                    Hardelot Plage   \n",
       "21  Plage du Domaine de Marquenterre   \n",
       "22                      Stella Plage   \n",
       "23                Budleigh Salterton   \n",
       "24            Holkham Naturist Beach   \n",
       "25                         Portslade   \n",
       "26               Abbot's Cliff Beach   \n",
       "\n",
       "                                                 note      nudism  \\\n",
       "0                                                 NaN          no   \n",
       "1                                                 NaN  permissive   \n",
       "2                                                 NaN          no   \n",
       "3                                                 NaN         yes   \n",
       "4                                                 NaN         yes   \n",
       "5                                                 NaN         yes   \n",
       "6                                                 NaN         yes   \n",
       "7                                                 NaN         yes   \n",
       "8                                                 NaN         yes   \n",
       "9                                                 NaN         yes   \n",
       "10                                                NaN   customary   \n",
       "11                                                NaN  designated   \n",
       "12                                                NaN  designated   \n",
       "13                                                NaN  designated   \n",
       "14                                                NaN  designated   \n",
       "15  Was formerly mapped as a wood with a place=ham...  obligatory   \n",
       "16                                                NaN         yes   \n",
       "17                                                NaN         yes   \n",
       "18                                                NaN         yes   \n",
       "19                                                NaN         yes   \n",
       "20                                                NaN         yes   \n",
       "21                                                NaN         yes   \n",
       "22                                                NaN         yes   \n",
       "23                                                NaN         yes   \n",
       "24                                                NaN         yes   \n",
       "25                                                NaN  permissive   \n",
       "26  Not an official nudist beachbut local knowledg...   customary   \n",
       "\n",
       "                                             postcode  \\\n",
       "0   [BN1 1GF, BN2 1TN, BN2 1TE, BN2 1TY, BN1 1EL, ...   \n",
       "1                                               [nan]   \n",
       "2   [BN2 5UE, BN2 5TT, BN2 5TU, BN2 5TY, BN2 5UD, ...   \n",
       "3                                           [PO4 9LJ]   \n",
       "4                      [ME12 4RP, ME12 4RL, ME12 4BS]   \n",
       "5                                               [nan]   \n",
       "6                [BN2 1FN, BN2 1FD, BN2 1FP, BN2 1FY]   \n",
       "7                                               [nan]   \n",
       "8            [RG45 6BU, RG11 6BU, RG11 6BS, RG45 6BS]   \n",
       "9                                               [nan]   \n",
       "10                                              [nan]   \n",
       "11                                              [nan]   \n",
       "12                                              [nan]   \n",
       "13                                              [nan]   \n",
       "14                                              [nan]   \n",
       "15  [AL2 2SE, AL2 3TE, AL2 2SG, AL2 3TD, AL2 3RR, ...   \n",
       "16                                          [BR8 7QJ]   \n",
       "17                                              [nan]   \n",
       "18                                              [nan]   \n",
       "19                                              [nan]   \n",
       "20                                              [nan]   \n",
       "21                                              [nan]   \n",
       "22                                              [nan]   \n",
       "23                                              [nan]   \n",
       "24                                              [nan]   \n",
       "25                                 [BN4 1WG, BN4 1WQ]   \n",
       "26                                              [nan]   \n",
       "\n",
       "                                                  lat  \\\n",
       "0   [50.8170231, 50.8161311, 50.8187325, 50.819078...   \n",
       "1   [50.4886730, 50.4879567, 50.4886730, 50.487741...   \n",
       "2   [50.8134502, 50.8128533, 50.8133697, 50.813928...   \n",
       "3   [50.7868400, 50.7870341, 50.7870883, 50.786557...   \n",
       "4   [51.3758713, 51.3767414, 51.3785798, 51.379209...   \n",
       "5   [51.7701689, 51.7702414, 51.7714794, 51.771184...   \n",
       "6   [50.8143418, 50.8143418, 50.8149338, 50.815281...   \n",
       "7   [52.6759496, 52.6759691, 52.6759691, 52.677537...   \n",
       "8   [51.3696029, 51.3683716, 51.3685059, 51.367909...   \n",
       "9   [50.6629957, 50.6606995, 50.6646572, 50.661110...   \n",
       "10  [55.4384074, 55.4380560, 55.4389051, 55.438807...   \n",
       "11  [54.1944835, 54.1978986, 54.1976376, 54.197251...   \n",
       "12  [55.6180147, 55.6203397, 55.6232237, 55.618868...   \n",
       "13  [55.4394703, 55.4391214, 55.4391547, 55.439392...   \n",
       "14  [55.6179708, 55.6133075, 55.6144670, 55.608728...   \n",
       "15  [51.7174211, 51.7170612, 51.7165404, 51.717613...   \n",
       "16  [51.3952993, 51.3938622, 51.3972243, 51.394223...   \n",
       "17                                             50.408   \n",
       "18                                            50.0317   \n",
       "19                                            50.8773   \n",
       "20                                            50.6426   \n",
       "21                                            50.2716   \n",
       "22                                            50.5031   \n",
       "23                                            50.6205   \n",
       "24                                            52.9719   \n",
       "25                                            50.8281   \n",
       "26                                            51.1005   \n",
       "\n",
       "                                                  lon  \n",
       "0   [-0.1237390, -0.1201978, -0.1320089, -0.133979...  \n",
       "1   [-3.5144732, -3.5142425, -3.5144732, -3.514711...  \n",
       "2   [-0.1094882, -0.1075543, -0.1085115, -0.109789...  \n",
       "3   [-1.0309351, -1.0308962, -1.0304885, -1.032078...  \n",
       "4   [0.9489995, 0.9476394, 0.9455351, 0.9450513, 0...  \n",
       "5   [1.0624927, 1.0674163, 1.0736186, 1.0729685, 1...  \n",
       "6   [-0.1132645, -0.1132645, -0.1158513, -0.115545...  \n",
       "7   [1.0071964, 1.0081888, 1.0081888, 1.0073828, 1...  \n",
       "8   [-0.8297808, -0.8317231, -0.8318042, -0.831352...  \n",
       "9   [-1.9487428, -1.9502858, -1.9475646, -1.950018...  \n",
       "10  [-5.2469849, -5.2377426, -5.2437776, -5.245606...  \n",
       "11  [-3.3264952, -3.3261447, -3.3298598, -3.325256...  \n",
       "12  [-4.7234138, -4.7302037, -4.7375026, -4.725387...  \n",
       "13  [-5.2514198, -5.2504825, -5.2482859, -5.249379...  \n",
       "14  [-4.7227414, -4.7117769, -4.7149181, -4.702394...  \n",
       "15  [-0.3588151, -0.3551418, -0.3573348, -0.357190...  \n",
       "16  [0.1428504, 0.1430449, 0.1382692, 0.1431200, 0...  \n",
       "17                                            1.55992  \n",
       "18                                            1.30568  \n",
       "19                                            1.63854  \n",
       "20                                            1.57649  \n",
       "21                                            1.53908  \n",
       "22                                            1.57793  \n",
       "23                                           -3.34886  \n",
       "24                                           0.806266  \n",
       "25                                          -0.222249  \n",
       "26                                            1.24923  "
      ]
     },
     "execution_count": 130,
     "metadata": {},
     "output_type": "execute_result"
    }
   ],
   "source": [
    "ways_nodes[['name','note','nudism','postcode','lat','lon']]"
   ]
  },
  {
   "cell_type": "markdown",
   "metadata": {},
   "source": [
    "### Save data"
   ]
  },
  {
   "cell_type": "code",
   "execution_count": 131,
   "metadata": {
    "execution": {
     "iopub.execute_input": "2020-07-04T16:28:18.101077Z",
     "iopub.status.busy": "2020-07-04T16:28:18.100849Z",
     "iopub.status.idle": "2020-07-04T16:28:18.111671Z",
     "shell.execute_reply": "2020-07-04T16:28:18.111219Z",
     "shell.execute_reply.started": "2020-07-04T16:28:18.101053Z"
    }
   },
   "outputs": [],
   "source": [
    "ways_nodes.to_csv(FP_LOCAL,encoding='utf-8',index=False)"
   ]
  },
  {
   "cell_type": "code",
   "execution_count": null,
   "metadata": {},
   "outputs": [],
   "source": []
  }
 ],
 "metadata": {
  "kernelspec": {
   "display_name": "Python 3",
   "language": "python",
   "name": "python3"
  },
  "language_info": {
   "codemirror_mode": {
    "name": "ipython",
    "version": 3
   },
   "file_extension": ".py",
   "mimetype": "text/x-python",
   "name": "python",
   "nbconvert_exporter": "python",
   "pygments_lexer": "ipython3",
   "version": "3.6.10"
  }
 },
 "nbformat": 4,
 "nbformat_minor": 4
}
